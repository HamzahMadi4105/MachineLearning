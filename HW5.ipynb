{
  "nbformat": 4,
  "nbformat_minor": 0,
  "metadata": {
    "colab": {
      "provenance": [],
      "include_colab_link": true
    },
    "kernelspec": {
      "name": "python3",
      "display_name": "Python 3"
    },
    "language_info": {
      "name": "python"
    }
  },
  "cells": [
    {
      "cell_type": "markdown",
      "metadata": {
        "id": "view-in-github",
        "colab_type": "text"
      },
      "source": [
        "<a href=\"https://colab.research.google.com/github/HamzahMadi4105/MachineLearning/blob/main/HW5.ipynb\" target=\"_parent\"><img src=\"https://colab.research.google.com/assets/colab-badge.svg\" alt=\"Open In Colab\"/></a>"
      ]
    },
    {
      "cell_type": "code",
      "source": [
        "import torch\n",
        "import numpy as np\n",
        "import pandas as pd\n",
        "import torch.optim as optim\n",
        "from matplotlib import pyplot as plt"
      ],
      "metadata": {
        "id": "-1uAWAzDdSsf"
      },
      "execution_count": 1,
      "outputs": []
    },
    {
      "cell_type": "markdown",
      "source": [
        "Problem 1"
      ],
      "metadata": {
        "id": "yRck9uisdxgG"
      }
    },
    {
      "cell_type": "code",
      "source": [
        "t_c = [0.5, 14.0, 15.0, 28.0, 11.0, 8.0, 3.0, -4.0, 6.0, 13.0, 21.0]\n",
        "t_u = [35.7, 55.9, 58.2, 81.9, 56.3, 48.9, 33.9, 21.8, 48.4, 60.4, 68.4]\n",
        "t_c = torch.tensor(t_c)\n",
        "t_u = torch.tensor(t_u)"
      ],
      "metadata": {
        "id": "n0wLWRQWdxSG"
      },
      "execution_count": 210,
      "outputs": []
    },
    {
      "cell_type": "code",
      "execution_count": 211,
      "metadata": {
        "id": "s78jKR4WdOW-"
      },
      "outputs": [],
      "source": [
        "def model(w2,t_u,w1,b):\n",
        "    return w2* t_u**2+w1*t_u+b"
      ]
    },
    {
      "cell_type": "code",
      "source": [
        "def loss_fn(t_p, t_c):\n",
        "  square_diff = (t_p - t_c)**2\n",
        "  return square_diff.mean();"
      ],
      "metadata": {
        "id": "zxTBFzB6bttj"
      },
      "execution_count": 212,
      "outputs": []
    },
    {
      "cell_type": "code",
      "source": [
        "w1 = torch.ones((), requires_grad=True)\n",
        "w2 = torch.ones((), requires_grad=True)\n",
        "b = torch.zeros((), requires_grad=True)"
      ],
      "metadata": {
        "id": "DdWn8JytrszR"
      },
      "execution_count": 213,
      "outputs": []
    },
    {
      "cell_type": "code",
      "source": [
        "n_samples = t_u.shape[0]\n",
        "n_val = int(0.2 * n_samples)\n",
        "\n",
        "shuffled_indices = torch.randperm(n_samples)\n",
        "\n",
        "train_indices = shuffled_indices[:-n_val]\n",
        "val_indices = shuffled_indices[-n_val:]\n",
        "\n",
        "train_indices, val_indices\n"
      ],
      "metadata": {
        "colab": {
          "base_uri": "https://localhost:8080/"
        },
        "id": "LKi_HRaYygDD",
        "outputId": "d76ed6c6-5b18-4237-d27c-67961efe526e"
      },
      "execution_count": 214,
      "outputs": [
        {
          "output_type": "execute_result",
          "data": {
            "text/plain": [
              "(tensor([7, 3, 6, 1, 0, 4, 8, 9, 2]), tensor([10,  5]))"
            ]
          },
          "metadata": {},
          "execution_count": 214
        }
      ]
    },
    {
      "cell_type": "code",
      "source": [
        "train_t_u = t_u[train_indices]\n",
        "train_t_c = t_c[train_indices]\n",
        "\n",
        "val_t_u = t_u[val_indices]\n",
        "val_t_c = t_c[val_indices]\n",
        "\n",
        "train_t_un = 0.1 * train_t_u\n",
        "val_t_un = 0.1 * val_t_u"
      ],
      "metadata": {
        "id": "QaT-B-h71rG0"
      },
      "execution_count": 215,
      "outputs": []
    },
    {
      "cell_type": "code",
      "source": [
        "def training_loop(n_epochs, optimizer, params, train_t_u, val_t_u, train_t_c, val_t_c):\n",
        "\n",
        "\n",
        "    for epoch in range(1, n_epochs + 1):\n",
        "        train_t_p = model(train_t_u, *params)\n",
        "        train_loss = loss_fn(train_t_p, train_t_c)\n",
        "\n",
        "        val_t_p = model(val_t_u, *params)\n",
        "        val_loss = loss_fn(val_t_p, val_t_c)\n",
        "\n",
        "        optimizer.zero_grad()\n",
        "        train_loss.backward()\n",
        "        optimizer.step()\n",
        "\n",
        "        if epoch <=2 or epoch % 500 == 0:\n",
        "            print(f\"Epoch {epoch}, Training loss {train_loss.item():.4f},\"\n",
        "                  f\" Validation loss {val_loss.item():.4f}\")\n",
        "\n",
        "    return params\n"
      ],
      "metadata": {
        "id": "KWWSzhIAcMYw"
      },
      "execution_count": 216,
      "outputs": []
    },
    {
      "cell_type": "code",
      "source": [
        "t_un = 0.1 * t_u"
      ],
      "metadata": {
        "id": "cM9rNrC38PtI"
      },
      "execution_count": 217,
      "outputs": []
    },
    {
      "cell_type": "code",
      "source": [
        "def learning_rates(learning_rates, optimizer_func,epochs ):\n",
        "    for lr in learning_rates:\n",
        "        params = torch.tensor([1.0, 1.0, 0.0], requires_grad=True)\n",
        "        optimizer = optimizer_func([params], lr=lr)\n",
        "        trained_params = training_loop(\n",
        "            n_epochs=epochs,\n",
        "            optimizer=optimizer,\n",
        "            params=params,\n",
        "            train_t_u=train_t_un,\n",
        "            val_t_u=val_t_un,\n",
        "            train_t_c=train_t_c,\n",
        "            val_t_c=val_t_c\n",
        "        )\n",
        "learning_rates([0.1, 0.01, 0.001, 0.0001, 0.0000001], optim.SGD, 5000)"
      ],
      "metadata": {
        "colab": {
          "base_uri": "https://localhost:8080/"
        },
        "id": "rg8TofqXenjz",
        "outputId": "b4c59e8f-4036-4fae-f453-eec7cb5072a8"
      },
      "execution_count": 218,
      "outputs": [
        {
          "output_type": "stream",
          "name": "stdout",
          "text": [
            "Epoch 1, Training loss 66.7033, Validation loss 88.8188\n",
            "Epoch 2, Training loss 1011034.4375, Validation loss 1263455.0000\n",
            "Epoch 500, Training loss nan, Validation loss nan\n",
            "Epoch 1000, Training loss nan, Validation loss nan\n",
            "Epoch 1500, Training loss nan, Validation loss nan\n",
            "Epoch 2000, Training loss nan, Validation loss nan\n",
            "Epoch 2500, Training loss nan, Validation loss nan\n",
            "Epoch 3000, Training loss nan, Validation loss nan\n",
            "Epoch 3500, Training loss nan, Validation loss nan\n",
            "Epoch 4000, Training loss nan, Validation loss nan\n",
            "Epoch 4500, Training loss nan, Validation loss nan\n",
            "Epoch 5000, Training loss nan, Validation loss nan\n",
            "Epoch 1, Training loss 66.7033, Validation loss 88.8188\n",
            "Epoch 2, Training loss 356.4128, Validation loss 334.1031\n",
            "Epoch 500, Training loss nan, Validation loss nan\n",
            "Epoch 1000, Training loss nan, Validation loss nan\n",
            "Epoch 1500, Training loss nan, Validation loss nan\n",
            "Epoch 2000, Training loss nan, Validation loss nan\n",
            "Epoch 2500, Training loss nan, Validation loss nan\n",
            "Epoch 3000, Training loss nan, Validation loss nan\n",
            "Epoch 3500, Training loss nan, Validation loss nan\n",
            "Epoch 4000, Training loss nan, Validation loss nan\n",
            "Epoch 4500, Training loss nan, Validation loss nan\n",
            "Epoch 5000, Training loss nan, Validation loss nan\n",
            "Epoch 1, Training loss 66.7033, Validation loss 88.8188\n",
            "Epoch 2, Training loss 51.9612, Validation loss 62.5996\n",
            "Epoch 500, Training loss 19.7646, Validation loss 14.1549\n",
            "Epoch 1000, Training loss 8.4641, Validation loss 7.4230\n",
            "Epoch 1500, Training loss 4.2727, Validation loss 4.1319\n",
            "Epoch 2000, Training loss 3.3350, Validation loss 2.8655\n",
            "Epoch 2500, Training loss 3.1796, Validation loss 2.4112\n",
            "Epoch 3000, Training loss 3.1571, Validation loss 2.2484\n",
            "Epoch 3500, Training loss 3.1541, Validation loss 2.1896\n",
            "Epoch 4000, Training loss 3.1537, Validation loss 2.1683\n",
            "Epoch 4500, Training loss 3.1536, Validation loss 2.1606\n",
            "Epoch 5000, Training loss 3.1536, Validation loss 2.1578\n",
            "Epoch 1, Training loss 66.7033, Validation loss 88.8188\n",
            "Epoch 2, Training loss 65.0933, Validation loss 86.0664\n",
            "Epoch 500, Training loss 34.7881, Validation loss 22.5612\n",
            "Epoch 1000, Training loss 33.0554, Validation loss 21.5796\n",
            "Epoch 1500, Training loss 31.3188, Validation loss 20.6020\n",
            "Epoch 2000, Training loss 29.5861, Validation loss 19.6316\n",
            "Epoch 2500, Training loss 27.8653, Validation loss 18.6714\n",
            "Epoch 3000, Training loss 26.1648, Validation loss 17.7248\n",
            "Epoch 3500, Training loss 24.4932, Validation loss 16.7951\n",
            "Epoch 4000, Training loss 22.8590, Validation loss 15.8854\n",
            "Epoch 4500, Training loss 21.2705, Validation loss 14.9990\n",
            "Epoch 5000, Training loss 19.7356, Validation loss 14.1387\n",
            "Epoch 1, Training loss 66.7033, Validation loss 88.8188\n",
            "Epoch 2, Training loss 66.7017, Validation loss 88.8161\n",
            "Epoch 500, Training loss 65.9005, Validation loss 87.4489\n",
            "Epoch 1000, Training loss 65.1080, Validation loss 86.0917\n",
            "Epoch 1500, Training loss 64.3278, Validation loss 84.7504\n",
            "Epoch 2000, Training loss 63.5601, Validation loss 83.4256\n",
            "Epoch 2500, Training loss 62.8051, Validation loss 82.1177\n",
            "Epoch 3000, Training loss 62.0629, Validation loss 80.8270\n",
            "Epoch 3500, Training loss 61.3344, Validation loss 79.5550\n",
            "Epoch 4000, Training loss 60.6196, Validation loss 78.3016\n",
            "Epoch 4500, Training loss 59.9179, Validation loss 77.0660\n",
            "Epoch 5000, Training loss 59.2294, Validation loss 75.8486\n"
          ]
        }
      ]
    },
    {
      "cell_type": "code",
      "source": [
        "learning_rates([0.1, 0.01, 0.001, 0.0001], optim.Adam,5000)"
      ],
      "metadata": {
        "colab": {
          "base_uri": "https://localhost:8080/"
        },
        "id": "z9PydeL6fAhu",
        "outputId": "fc18c641-3550-43aa-8baa-bc35c1714982"
      },
      "execution_count": 219,
      "outputs": [
        {
          "output_type": "stream",
          "name": "stdout",
          "text": [
            "Epoch 1, Training loss 66.7033, Validation loss 88.8188\n",
            "Epoch 2, Training loss 53.8914, Validation loss 65.4340\n",
            "Epoch 500, Training loss 3.1536, Validation loss 2.1562\n",
            "Epoch 1000, Training loss 3.1536, Validation loss 2.1562\n",
            "Epoch 1500, Training loss 3.1536, Validation loss 2.1562\n",
            "Epoch 2000, Training loss 3.1536, Validation loss 2.1562\n",
            "Epoch 2500, Training loss 3.1536, Validation loss 2.1562\n",
            "Epoch 3000, Training loss 3.1536, Validation loss 2.1562\n",
            "Epoch 3500, Training loss 3.1536, Validation loss 2.1562\n",
            "Epoch 4000, Training loss 3.1536, Validation loss 2.1571\n",
            "Epoch 4500, Training loss 3.1536, Validation loss 2.1553\n",
            "Epoch 5000, Training loss 3.1537, Validation loss 2.1444\n",
            "Epoch 1, Training loss 66.7033, Validation loss 88.8188\n",
            "Epoch 2, Training loss 65.3019, Validation loss 86.3648\n",
            "Epoch 500, Training loss 7.9687, Validation loss 7.2711\n",
            "Epoch 1000, Training loss 3.1694, Validation loss 2.3611\n",
            "Epoch 1500, Training loss 3.1536, Validation loss 2.1577\n",
            "Epoch 2000, Training loss 3.1536, Validation loss 2.1562\n",
            "Epoch 2500, Training loss 3.1536, Validation loss 2.1562\n",
            "Epoch 3000, Training loss 3.1536, Validation loss 2.1562\n",
            "Epoch 3500, Training loss 3.1536, Validation loss 2.1562\n",
            "Epoch 4000, Training loss 3.1536, Validation loss 2.1562\n",
            "Epoch 4500, Training loss 3.1536, Validation loss 2.1562\n",
            "Epoch 5000, Training loss 3.1536, Validation loss 2.1562\n",
            "Epoch 1, Training loss 66.7033, Validation loss 88.8188\n",
            "Epoch 2, Training loss 66.5621, Validation loss 88.5725\n",
            "Epoch 500, Training loss 37.7189, Validation loss 28.1093\n",
            "Epoch 1000, Training loss 33.0415, Validation loss 22.7670\n",
            "Epoch 1500, Training loss 28.5549, Validation loss 19.7676\n",
            "Epoch 2000, Training loss 24.3079, Validation loss 17.1544\n",
            "Epoch 2500, Training loss 20.3669, Validation loss 14.8094\n",
            "Epoch 3000, Training loss 16.7819, Validation loss 12.6903\n",
            "Epoch 3500, Training loss 13.5942, Validation loss 10.7791\n",
            "Epoch 4000, Training loss 10.8362, Validation loss 9.0686\n",
            "Epoch 4500, Training loss 8.5297, Validation loss 7.5561\n",
            "Epoch 5000, Training loss 6.6832, Validation loss 6.2412\n",
            "Epoch 1, Training loss 66.7033, Validation loss 88.8188\n",
            "Epoch 2, Training loss 66.6892, Validation loss 88.7942\n",
            "Epoch 500, Training loss 60.0848, Validation loss 77.0436\n",
            "Epoch 1000, Training loss 54.3866, Validation loss 66.4218\n",
            "Epoch 1500, Training loss 49.6602, Validation loss 57.0819\n",
            "Epoch 2000, Training loss 45.8979, Validation loss 49.0852\n",
            "Epoch 2500, Training loss 43.0423, Validation loss 42.4543\n",
            "Epoch 3000, Training loss 40.9756, Validation loss 37.1713\n",
            "Epoch 3500, Training loss 39.5080, Validation loss 33.1600\n",
            "Epoch 4000, Training loss 38.4044, Validation loss 30.2276\n",
            "Epoch 4500, Training loss 37.4935, Validation loss 28.0512\n",
            "Epoch 5000, Training loss 36.7173, Validation loss 26.3671\n"
          ]
        }
      ]
    },
    {
      "cell_type": "markdown",
      "source": [
        "Problem 2"
      ],
      "metadata": {
        "id": "YXeYimhrxjhW"
      }
    },
    {
      "cell_type": "code",
      "source": [
        "from google.colab import drive\n",
        "drive.mount('/content/drive')"
      ],
      "metadata": {
        "id": "fBJSYoOWruy2",
        "colab": {
          "base_uri": "https://localhost:8080/"
        },
        "outputId": "412e1145-1f15-4e4b-98b2-ff6827742393"
      },
      "execution_count": 12,
      "outputs": [
        {
          "output_type": "stream",
          "name": "stdout",
          "text": [
            "Mounted at /content/drive\n"
          ]
        }
      ]
    },
    {
      "cell_type": "code",
      "source": [
        "file_path = '/content/drive/My Drive/Courses/Intro-to-ML/Datasets/Housing.csv'\n",
        "housing = pd.DataFrame(pd.read_csv(file_path))\n",
        "housing.head()"
      ],
      "metadata": {
        "colab": {
          "base_uri": "https://localhost:8080/",
          "height": 206
        },
        "id": "m9xVC30vXvZB",
        "outputId": "d238d718-2958-4196-ff81-b1957b117e43"
      },
      "execution_count": 13,
      "outputs": [
        {
          "output_type": "execute_result",
          "data": {
            "text/plain": [
              "      price  area  bedrooms  bathrooms  stories mainroad guestroom basement  \\\n",
              "0  13300000  7420         4          2        3      yes        no       no   \n",
              "1  12250000  8960         4          4        4      yes        no       no   \n",
              "2  12250000  9960         3          2        2      yes        no      yes   \n",
              "3  12215000  7500         4          2        2      yes        no      yes   \n",
              "4  11410000  7420         4          1        2      yes       yes      yes   \n",
              "\n",
              "  hotwaterheating airconditioning  parking prefarea furnishingstatus  \n",
              "0              no             yes        2      yes        furnished  \n",
              "1              no             yes        3       no        furnished  \n",
              "2              no              no        2      yes   semi-furnished  \n",
              "3              no             yes        3      yes        furnished  \n",
              "4              no             yes        2       no        furnished  "
            ],
            "text/html": [
              "\n",
              "  <div id=\"df-ef732556-e2e6-4c42-9abf-4c568743c5f4\" class=\"colab-df-container\">\n",
              "    <div>\n",
              "<style scoped>\n",
              "    .dataframe tbody tr th:only-of-type {\n",
              "        vertical-align: middle;\n",
              "    }\n",
              "\n",
              "    .dataframe tbody tr th {\n",
              "        vertical-align: top;\n",
              "    }\n",
              "\n",
              "    .dataframe thead th {\n",
              "        text-align: right;\n",
              "    }\n",
              "</style>\n",
              "<table border=\"1\" class=\"dataframe\">\n",
              "  <thead>\n",
              "    <tr style=\"text-align: right;\">\n",
              "      <th></th>\n",
              "      <th>price</th>\n",
              "      <th>area</th>\n",
              "      <th>bedrooms</th>\n",
              "      <th>bathrooms</th>\n",
              "      <th>stories</th>\n",
              "      <th>mainroad</th>\n",
              "      <th>guestroom</th>\n",
              "      <th>basement</th>\n",
              "      <th>hotwaterheating</th>\n",
              "      <th>airconditioning</th>\n",
              "      <th>parking</th>\n",
              "      <th>prefarea</th>\n",
              "      <th>furnishingstatus</th>\n",
              "    </tr>\n",
              "  </thead>\n",
              "  <tbody>\n",
              "    <tr>\n",
              "      <th>0</th>\n",
              "      <td>13300000</td>\n",
              "      <td>7420</td>\n",
              "      <td>4</td>\n",
              "      <td>2</td>\n",
              "      <td>3</td>\n",
              "      <td>yes</td>\n",
              "      <td>no</td>\n",
              "      <td>no</td>\n",
              "      <td>no</td>\n",
              "      <td>yes</td>\n",
              "      <td>2</td>\n",
              "      <td>yes</td>\n",
              "      <td>furnished</td>\n",
              "    </tr>\n",
              "    <tr>\n",
              "      <th>1</th>\n",
              "      <td>12250000</td>\n",
              "      <td>8960</td>\n",
              "      <td>4</td>\n",
              "      <td>4</td>\n",
              "      <td>4</td>\n",
              "      <td>yes</td>\n",
              "      <td>no</td>\n",
              "      <td>no</td>\n",
              "      <td>no</td>\n",
              "      <td>yes</td>\n",
              "      <td>3</td>\n",
              "      <td>no</td>\n",
              "      <td>furnished</td>\n",
              "    </tr>\n",
              "    <tr>\n",
              "      <th>2</th>\n",
              "      <td>12250000</td>\n",
              "      <td>9960</td>\n",
              "      <td>3</td>\n",
              "      <td>2</td>\n",
              "      <td>2</td>\n",
              "      <td>yes</td>\n",
              "      <td>no</td>\n",
              "      <td>yes</td>\n",
              "      <td>no</td>\n",
              "      <td>no</td>\n",
              "      <td>2</td>\n",
              "      <td>yes</td>\n",
              "      <td>semi-furnished</td>\n",
              "    </tr>\n",
              "    <tr>\n",
              "      <th>3</th>\n",
              "      <td>12215000</td>\n",
              "      <td>7500</td>\n",
              "      <td>4</td>\n",
              "      <td>2</td>\n",
              "      <td>2</td>\n",
              "      <td>yes</td>\n",
              "      <td>no</td>\n",
              "      <td>yes</td>\n",
              "      <td>no</td>\n",
              "      <td>yes</td>\n",
              "      <td>3</td>\n",
              "      <td>yes</td>\n",
              "      <td>furnished</td>\n",
              "    </tr>\n",
              "    <tr>\n",
              "      <th>4</th>\n",
              "      <td>11410000</td>\n",
              "      <td>7420</td>\n",
              "      <td>4</td>\n",
              "      <td>1</td>\n",
              "      <td>2</td>\n",
              "      <td>yes</td>\n",
              "      <td>yes</td>\n",
              "      <td>yes</td>\n",
              "      <td>no</td>\n",
              "      <td>yes</td>\n",
              "      <td>2</td>\n",
              "      <td>no</td>\n",
              "      <td>furnished</td>\n",
              "    </tr>\n",
              "  </tbody>\n",
              "</table>\n",
              "</div>\n",
              "    <div class=\"colab-df-buttons\">\n",
              "\n",
              "  <div class=\"colab-df-container\">\n",
              "    <button class=\"colab-df-convert\" onclick=\"convertToInteractive('df-ef732556-e2e6-4c42-9abf-4c568743c5f4')\"\n",
              "            title=\"Convert this dataframe to an interactive table.\"\n",
              "            style=\"display:none;\">\n",
              "\n",
              "  <svg xmlns=\"http://www.w3.org/2000/svg\" height=\"24px\" viewBox=\"0 -960 960 960\">\n",
              "    <path d=\"M120-120v-720h720v720H120Zm60-500h600v-160H180v160Zm220 220h160v-160H400v160Zm0 220h160v-160H400v160ZM180-400h160v-160H180v160Zm440 0h160v-160H620v160ZM180-180h160v-160H180v160Zm440 0h160v-160H620v160Z\"/>\n",
              "  </svg>\n",
              "    </button>\n",
              "\n",
              "  <style>\n",
              "    .colab-df-container {\n",
              "      display:flex;\n",
              "      gap: 12px;\n",
              "    }\n",
              "\n",
              "    .colab-df-convert {\n",
              "      background-color: #E8F0FE;\n",
              "      border: none;\n",
              "      border-radius: 50%;\n",
              "      cursor: pointer;\n",
              "      display: none;\n",
              "      fill: #1967D2;\n",
              "      height: 32px;\n",
              "      padding: 0 0 0 0;\n",
              "      width: 32px;\n",
              "    }\n",
              "\n",
              "    .colab-df-convert:hover {\n",
              "      background-color: #E2EBFA;\n",
              "      box-shadow: 0px 1px 2px rgba(60, 64, 67, 0.3), 0px 1px 3px 1px rgba(60, 64, 67, 0.15);\n",
              "      fill: #174EA6;\n",
              "    }\n",
              "\n",
              "    .colab-df-buttons div {\n",
              "      margin-bottom: 4px;\n",
              "    }\n",
              "\n",
              "    [theme=dark] .colab-df-convert {\n",
              "      background-color: #3B4455;\n",
              "      fill: #D2E3FC;\n",
              "    }\n",
              "\n",
              "    [theme=dark] .colab-df-convert:hover {\n",
              "      background-color: #434B5C;\n",
              "      box-shadow: 0px 1px 3px 1px rgba(0, 0, 0, 0.15);\n",
              "      filter: drop-shadow(0px 1px 2px rgba(0, 0, 0, 0.3));\n",
              "      fill: #FFFFFF;\n",
              "    }\n",
              "  </style>\n",
              "\n",
              "    <script>\n",
              "      const buttonEl =\n",
              "        document.querySelector('#df-ef732556-e2e6-4c42-9abf-4c568743c5f4 button.colab-df-convert');\n",
              "      buttonEl.style.display =\n",
              "        google.colab.kernel.accessAllowed ? 'block' : 'none';\n",
              "\n",
              "      async function convertToInteractive(key) {\n",
              "        const element = document.querySelector('#df-ef732556-e2e6-4c42-9abf-4c568743c5f4');\n",
              "        const dataTable =\n",
              "          await google.colab.kernel.invokeFunction('convertToInteractive',\n",
              "                                                    [key], {});\n",
              "        if (!dataTable) return;\n",
              "\n",
              "        const docLinkHtml = 'Like what you see? Visit the ' +\n",
              "          '<a target=\"_blank\" href=https://colab.research.google.com/notebooks/data_table.ipynb>data table notebook</a>'\n",
              "          + ' to learn more about interactive tables.';\n",
              "        element.innerHTML = '';\n",
              "        dataTable['output_type'] = 'display_data';\n",
              "        await google.colab.output.renderOutput(dataTable, element);\n",
              "        const docLink = document.createElement('div');\n",
              "        docLink.innerHTML = docLinkHtml;\n",
              "        element.appendChild(docLink);\n",
              "      }\n",
              "    </script>\n",
              "  </div>\n",
              "\n",
              "\n",
              "<div id=\"df-796809f3-4070-4c0b-a75d-066e04f44dce\">\n",
              "  <button class=\"colab-df-quickchart\" onclick=\"quickchart('df-796809f3-4070-4c0b-a75d-066e04f44dce')\"\n",
              "            title=\"Suggest charts\"\n",
              "            style=\"display:none;\">\n",
              "\n",
              "<svg xmlns=\"http://www.w3.org/2000/svg\" height=\"24px\"viewBox=\"0 0 24 24\"\n",
              "     width=\"24px\">\n",
              "    <g>\n",
              "        <path d=\"M19 3H5c-1.1 0-2 .9-2 2v14c0 1.1.9 2 2 2h14c1.1 0 2-.9 2-2V5c0-1.1-.9-2-2-2zM9 17H7v-7h2v7zm4 0h-2V7h2v10zm4 0h-2v-4h2v4z\"/>\n",
              "    </g>\n",
              "</svg>\n",
              "  </button>\n",
              "\n",
              "<style>\n",
              "  .colab-df-quickchart {\n",
              "      --bg-color: #E8F0FE;\n",
              "      --fill-color: #1967D2;\n",
              "      --hover-bg-color: #E2EBFA;\n",
              "      --hover-fill-color: #174EA6;\n",
              "      --disabled-fill-color: #AAA;\n",
              "      --disabled-bg-color: #DDD;\n",
              "  }\n",
              "\n",
              "  [theme=dark] .colab-df-quickchart {\n",
              "      --bg-color: #3B4455;\n",
              "      --fill-color: #D2E3FC;\n",
              "      --hover-bg-color: #434B5C;\n",
              "      --hover-fill-color: #FFFFFF;\n",
              "      --disabled-bg-color: #3B4455;\n",
              "      --disabled-fill-color: #666;\n",
              "  }\n",
              "\n",
              "  .colab-df-quickchart {\n",
              "    background-color: var(--bg-color);\n",
              "    border: none;\n",
              "    border-radius: 50%;\n",
              "    cursor: pointer;\n",
              "    display: none;\n",
              "    fill: var(--fill-color);\n",
              "    height: 32px;\n",
              "    padding: 0;\n",
              "    width: 32px;\n",
              "  }\n",
              "\n",
              "  .colab-df-quickchart:hover {\n",
              "    background-color: var(--hover-bg-color);\n",
              "    box-shadow: 0 1px 2px rgba(60, 64, 67, 0.3), 0 1px 3px 1px rgba(60, 64, 67, 0.15);\n",
              "    fill: var(--button-hover-fill-color);\n",
              "  }\n",
              "\n",
              "  .colab-df-quickchart-complete:disabled,\n",
              "  .colab-df-quickchart-complete:disabled:hover {\n",
              "    background-color: var(--disabled-bg-color);\n",
              "    fill: var(--disabled-fill-color);\n",
              "    box-shadow: none;\n",
              "  }\n",
              "\n",
              "  .colab-df-spinner {\n",
              "    border: 2px solid var(--fill-color);\n",
              "    border-color: transparent;\n",
              "    border-bottom-color: var(--fill-color);\n",
              "    animation:\n",
              "      spin 1s steps(1) infinite;\n",
              "  }\n",
              "\n",
              "  @keyframes spin {\n",
              "    0% {\n",
              "      border-color: transparent;\n",
              "      border-bottom-color: var(--fill-color);\n",
              "      border-left-color: var(--fill-color);\n",
              "    }\n",
              "    20% {\n",
              "      border-color: transparent;\n",
              "      border-left-color: var(--fill-color);\n",
              "      border-top-color: var(--fill-color);\n",
              "    }\n",
              "    30% {\n",
              "      border-color: transparent;\n",
              "      border-left-color: var(--fill-color);\n",
              "      border-top-color: var(--fill-color);\n",
              "      border-right-color: var(--fill-color);\n",
              "    }\n",
              "    40% {\n",
              "      border-color: transparent;\n",
              "      border-right-color: var(--fill-color);\n",
              "      border-top-color: var(--fill-color);\n",
              "    }\n",
              "    60% {\n",
              "      border-color: transparent;\n",
              "      border-right-color: var(--fill-color);\n",
              "    }\n",
              "    80% {\n",
              "      border-color: transparent;\n",
              "      border-right-color: var(--fill-color);\n",
              "      border-bottom-color: var(--fill-color);\n",
              "    }\n",
              "    90% {\n",
              "      border-color: transparent;\n",
              "      border-bottom-color: var(--fill-color);\n",
              "    }\n",
              "  }\n",
              "</style>\n",
              "\n",
              "  <script>\n",
              "    async function quickchart(key) {\n",
              "      const quickchartButtonEl =\n",
              "        document.querySelector('#' + key + ' button');\n",
              "      quickchartButtonEl.disabled = true;  // To prevent multiple clicks.\n",
              "      quickchartButtonEl.classList.add('colab-df-spinner');\n",
              "      try {\n",
              "        const charts = await google.colab.kernel.invokeFunction(\n",
              "            'suggestCharts', [key], {});\n",
              "      } catch (error) {\n",
              "        console.error('Error during call to suggestCharts:', error);\n",
              "      }\n",
              "      quickchartButtonEl.classList.remove('colab-df-spinner');\n",
              "      quickchartButtonEl.classList.add('colab-df-quickchart-complete');\n",
              "    }\n",
              "    (() => {\n",
              "      let quickchartButtonEl =\n",
              "        document.querySelector('#df-796809f3-4070-4c0b-a75d-066e04f44dce button');\n",
              "      quickchartButtonEl.style.display =\n",
              "        google.colab.kernel.accessAllowed ? 'block' : 'none';\n",
              "    })();\n",
              "  </script>\n",
              "</div>\n",
              "    </div>\n",
              "  </div>\n"
            ]
          },
          "metadata": {},
          "execution_count": 13
        }
      ]
    },
    {
      "cell_type": "code",
      "source": [
        "# List of variables to map\n",
        "\n",
        "varlist =  ['mainroad', 'guestroom', 'basement', 'hotwaterheating', 'airconditioning', 'prefarea']\n",
        "\n",
        "# Defining the map function\n",
        "def binary_map(x):\n",
        "    return x.map({'yes': 1, 'no': 0})\n",
        "\n",
        "# Applying the function to the housing list\n",
        "housing[varlist] = housing[varlist].apply(binary_map)\n",
        "housing.head()"
      ],
      "metadata": {
        "id": "aG3BsO2xXz-Q",
        "colab": {
          "base_uri": "https://localhost:8080/",
          "height": 206
        },
        "outputId": "3dfc3f7a-6e97-478c-8afa-f5f9713535c7"
      },
      "execution_count": 14,
      "outputs": [
        {
          "output_type": "execute_result",
          "data": {
            "text/plain": [
              "      price  area  bedrooms  bathrooms  stories  mainroad  guestroom  \\\n",
              "0  13300000  7420         4          2        3         1          0   \n",
              "1  12250000  8960         4          4        4         1          0   \n",
              "2  12250000  9960         3          2        2         1          0   \n",
              "3  12215000  7500         4          2        2         1          0   \n",
              "4  11410000  7420         4          1        2         1          1   \n",
              "\n",
              "   basement  hotwaterheating  airconditioning  parking  prefarea  \\\n",
              "0         0                0                1        2         1   \n",
              "1         0                0                1        3         0   \n",
              "2         1                0                0        2         1   \n",
              "3         1                0                1        3         1   \n",
              "4         1                0                1        2         0   \n",
              "\n",
              "  furnishingstatus  \n",
              "0        furnished  \n",
              "1        furnished  \n",
              "2   semi-furnished  \n",
              "3        furnished  \n",
              "4        furnished  "
            ],
            "text/html": [
              "\n",
              "  <div id=\"df-6f090c9a-1437-4768-86d2-4912769d9a26\" class=\"colab-df-container\">\n",
              "    <div>\n",
              "<style scoped>\n",
              "    .dataframe tbody tr th:only-of-type {\n",
              "        vertical-align: middle;\n",
              "    }\n",
              "\n",
              "    .dataframe tbody tr th {\n",
              "        vertical-align: top;\n",
              "    }\n",
              "\n",
              "    .dataframe thead th {\n",
              "        text-align: right;\n",
              "    }\n",
              "</style>\n",
              "<table border=\"1\" class=\"dataframe\">\n",
              "  <thead>\n",
              "    <tr style=\"text-align: right;\">\n",
              "      <th></th>\n",
              "      <th>price</th>\n",
              "      <th>area</th>\n",
              "      <th>bedrooms</th>\n",
              "      <th>bathrooms</th>\n",
              "      <th>stories</th>\n",
              "      <th>mainroad</th>\n",
              "      <th>guestroom</th>\n",
              "      <th>basement</th>\n",
              "      <th>hotwaterheating</th>\n",
              "      <th>airconditioning</th>\n",
              "      <th>parking</th>\n",
              "      <th>prefarea</th>\n",
              "      <th>furnishingstatus</th>\n",
              "    </tr>\n",
              "  </thead>\n",
              "  <tbody>\n",
              "    <tr>\n",
              "      <th>0</th>\n",
              "      <td>13300000</td>\n",
              "      <td>7420</td>\n",
              "      <td>4</td>\n",
              "      <td>2</td>\n",
              "      <td>3</td>\n",
              "      <td>1</td>\n",
              "      <td>0</td>\n",
              "      <td>0</td>\n",
              "      <td>0</td>\n",
              "      <td>1</td>\n",
              "      <td>2</td>\n",
              "      <td>1</td>\n",
              "      <td>furnished</td>\n",
              "    </tr>\n",
              "    <tr>\n",
              "      <th>1</th>\n",
              "      <td>12250000</td>\n",
              "      <td>8960</td>\n",
              "      <td>4</td>\n",
              "      <td>4</td>\n",
              "      <td>4</td>\n",
              "      <td>1</td>\n",
              "      <td>0</td>\n",
              "      <td>0</td>\n",
              "      <td>0</td>\n",
              "      <td>1</td>\n",
              "      <td>3</td>\n",
              "      <td>0</td>\n",
              "      <td>furnished</td>\n",
              "    </tr>\n",
              "    <tr>\n",
              "      <th>2</th>\n",
              "      <td>12250000</td>\n",
              "      <td>9960</td>\n",
              "      <td>3</td>\n",
              "      <td>2</td>\n",
              "      <td>2</td>\n",
              "      <td>1</td>\n",
              "      <td>0</td>\n",
              "      <td>1</td>\n",
              "      <td>0</td>\n",
              "      <td>0</td>\n",
              "      <td>2</td>\n",
              "      <td>1</td>\n",
              "      <td>semi-furnished</td>\n",
              "    </tr>\n",
              "    <tr>\n",
              "      <th>3</th>\n",
              "      <td>12215000</td>\n",
              "      <td>7500</td>\n",
              "      <td>4</td>\n",
              "      <td>2</td>\n",
              "      <td>2</td>\n",
              "      <td>1</td>\n",
              "      <td>0</td>\n",
              "      <td>1</td>\n",
              "      <td>0</td>\n",
              "      <td>1</td>\n",
              "      <td>3</td>\n",
              "      <td>1</td>\n",
              "      <td>furnished</td>\n",
              "    </tr>\n",
              "    <tr>\n",
              "      <th>4</th>\n",
              "      <td>11410000</td>\n",
              "      <td>7420</td>\n",
              "      <td>4</td>\n",
              "      <td>1</td>\n",
              "      <td>2</td>\n",
              "      <td>1</td>\n",
              "      <td>1</td>\n",
              "      <td>1</td>\n",
              "      <td>0</td>\n",
              "      <td>1</td>\n",
              "      <td>2</td>\n",
              "      <td>0</td>\n",
              "      <td>furnished</td>\n",
              "    </tr>\n",
              "  </tbody>\n",
              "</table>\n",
              "</div>\n",
              "    <div class=\"colab-df-buttons\">\n",
              "\n",
              "  <div class=\"colab-df-container\">\n",
              "    <button class=\"colab-df-convert\" onclick=\"convertToInteractive('df-6f090c9a-1437-4768-86d2-4912769d9a26')\"\n",
              "            title=\"Convert this dataframe to an interactive table.\"\n",
              "            style=\"display:none;\">\n",
              "\n",
              "  <svg xmlns=\"http://www.w3.org/2000/svg\" height=\"24px\" viewBox=\"0 -960 960 960\">\n",
              "    <path d=\"M120-120v-720h720v720H120Zm60-500h600v-160H180v160Zm220 220h160v-160H400v160Zm0 220h160v-160H400v160ZM180-400h160v-160H180v160Zm440 0h160v-160H620v160ZM180-180h160v-160H180v160Zm440 0h160v-160H620v160Z\"/>\n",
              "  </svg>\n",
              "    </button>\n",
              "\n",
              "  <style>\n",
              "    .colab-df-container {\n",
              "      display:flex;\n",
              "      gap: 12px;\n",
              "    }\n",
              "\n",
              "    .colab-df-convert {\n",
              "      background-color: #E8F0FE;\n",
              "      border: none;\n",
              "      border-radius: 50%;\n",
              "      cursor: pointer;\n",
              "      display: none;\n",
              "      fill: #1967D2;\n",
              "      height: 32px;\n",
              "      padding: 0 0 0 0;\n",
              "      width: 32px;\n",
              "    }\n",
              "\n",
              "    .colab-df-convert:hover {\n",
              "      background-color: #E2EBFA;\n",
              "      box-shadow: 0px 1px 2px rgba(60, 64, 67, 0.3), 0px 1px 3px 1px rgba(60, 64, 67, 0.15);\n",
              "      fill: #174EA6;\n",
              "    }\n",
              "\n",
              "    .colab-df-buttons div {\n",
              "      margin-bottom: 4px;\n",
              "    }\n",
              "\n",
              "    [theme=dark] .colab-df-convert {\n",
              "      background-color: #3B4455;\n",
              "      fill: #D2E3FC;\n",
              "    }\n",
              "\n",
              "    [theme=dark] .colab-df-convert:hover {\n",
              "      background-color: #434B5C;\n",
              "      box-shadow: 0px 1px 3px 1px rgba(0, 0, 0, 0.15);\n",
              "      filter: drop-shadow(0px 1px 2px rgba(0, 0, 0, 0.3));\n",
              "      fill: #FFFFFF;\n",
              "    }\n",
              "  </style>\n",
              "\n",
              "    <script>\n",
              "      const buttonEl =\n",
              "        document.querySelector('#df-6f090c9a-1437-4768-86d2-4912769d9a26 button.colab-df-convert');\n",
              "      buttonEl.style.display =\n",
              "        google.colab.kernel.accessAllowed ? 'block' : 'none';\n",
              "\n",
              "      async function convertToInteractive(key) {\n",
              "        const element = document.querySelector('#df-6f090c9a-1437-4768-86d2-4912769d9a26');\n",
              "        const dataTable =\n",
              "          await google.colab.kernel.invokeFunction('convertToInteractive',\n",
              "                                                    [key], {});\n",
              "        if (!dataTable) return;\n",
              "\n",
              "        const docLinkHtml = 'Like what you see? Visit the ' +\n",
              "          '<a target=\"_blank\" href=https://colab.research.google.com/notebooks/data_table.ipynb>data table notebook</a>'\n",
              "          + ' to learn more about interactive tables.';\n",
              "        element.innerHTML = '';\n",
              "        dataTable['output_type'] = 'display_data';\n",
              "        await google.colab.output.renderOutput(dataTable, element);\n",
              "        const docLink = document.createElement('div');\n",
              "        docLink.innerHTML = docLinkHtml;\n",
              "        element.appendChild(docLink);\n",
              "      }\n",
              "    </script>\n",
              "  </div>\n",
              "\n",
              "\n",
              "<div id=\"df-0a7fdfbc-2b99-498c-8818-2b9d415abe97\">\n",
              "  <button class=\"colab-df-quickchart\" onclick=\"quickchart('df-0a7fdfbc-2b99-498c-8818-2b9d415abe97')\"\n",
              "            title=\"Suggest charts\"\n",
              "            style=\"display:none;\">\n",
              "\n",
              "<svg xmlns=\"http://www.w3.org/2000/svg\" height=\"24px\"viewBox=\"0 0 24 24\"\n",
              "     width=\"24px\">\n",
              "    <g>\n",
              "        <path d=\"M19 3H5c-1.1 0-2 .9-2 2v14c0 1.1.9 2 2 2h14c1.1 0 2-.9 2-2V5c0-1.1-.9-2-2-2zM9 17H7v-7h2v7zm4 0h-2V7h2v10zm4 0h-2v-4h2v4z\"/>\n",
              "    </g>\n",
              "</svg>\n",
              "  </button>\n",
              "\n",
              "<style>\n",
              "  .colab-df-quickchart {\n",
              "      --bg-color: #E8F0FE;\n",
              "      --fill-color: #1967D2;\n",
              "      --hover-bg-color: #E2EBFA;\n",
              "      --hover-fill-color: #174EA6;\n",
              "      --disabled-fill-color: #AAA;\n",
              "      --disabled-bg-color: #DDD;\n",
              "  }\n",
              "\n",
              "  [theme=dark] .colab-df-quickchart {\n",
              "      --bg-color: #3B4455;\n",
              "      --fill-color: #D2E3FC;\n",
              "      --hover-bg-color: #434B5C;\n",
              "      --hover-fill-color: #FFFFFF;\n",
              "      --disabled-bg-color: #3B4455;\n",
              "      --disabled-fill-color: #666;\n",
              "  }\n",
              "\n",
              "  .colab-df-quickchart {\n",
              "    background-color: var(--bg-color);\n",
              "    border: none;\n",
              "    border-radius: 50%;\n",
              "    cursor: pointer;\n",
              "    display: none;\n",
              "    fill: var(--fill-color);\n",
              "    height: 32px;\n",
              "    padding: 0;\n",
              "    width: 32px;\n",
              "  }\n",
              "\n",
              "  .colab-df-quickchart:hover {\n",
              "    background-color: var(--hover-bg-color);\n",
              "    box-shadow: 0 1px 2px rgba(60, 64, 67, 0.3), 0 1px 3px 1px rgba(60, 64, 67, 0.15);\n",
              "    fill: var(--button-hover-fill-color);\n",
              "  }\n",
              "\n",
              "  .colab-df-quickchart-complete:disabled,\n",
              "  .colab-df-quickchart-complete:disabled:hover {\n",
              "    background-color: var(--disabled-bg-color);\n",
              "    fill: var(--disabled-fill-color);\n",
              "    box-shadow: none;\n",
              "  }\n",
              "\n",
              "  .colab-df-spinner {\n",
              "    border: 2px solid var(--fill-color);\n",
              "    border-color: transparent;\n",
              "    border-bottom-color: var(--fill-color);\n",
              "    animation:\n",
              "      spin 1s steps(1) infinite;\n",
              "  }\n",
              "\n",
              "  @keyframes spin {\n",
              "    0% {\n",
              "      border-color: transparent;\n",
              "      border-bottom-color: var(--fill-color);\n",
              "      border-left-color: var(--fill-color);\n",
              "    }\n",
              "    20% {\n",
              "      border-color: transparent;\n",
              "      border-left-color: var(--fill-color);\n",
              "      border-top-color: var(--fill-color);\n",
              "    }\n",
              "    30% {\n",
              "      border-color: transparent;\n",
              "      border-left-color: var(--fill-color);\n",
              "      border-top-color: var(--fill-color);\n",
              "      border-right-color: var(--fill-color);\n",
              "    }\n",
              "    40% {\n",
              "      border-color: transparent;\n",
              "      border-right-color: var(--fill-color);\n",
              "      border-top-color: var(--fill-color);\n",
              "    }\n",
              "    60% {\n",
              "      border-color: transparent;\n",
              "      border-right-color: var(--fill-color);\n",
              "    }\n",
              "    80% {\n",
              "      border-color: transparent;\n",
              "      border-right-color: var(--fill-color);\n",
              "      border-bottom-color: var(--fill-color);\n",
              "    }\n",
              "    90% {\n",
              "      border-color: transparent;\n",
              "      border-bottom-color: var(--fill-color);\n",
              "    }\n",
              "  }\n",
              "</style>\n",
              "\n",
              "  <script>\n",
              "    async function quickchart(key) {\n",
              "      const quickchartButtonEl =\n",
              "        document.querySelector('#' + key + ' button');\n",
              "      quickchartButtonEl.disabled = true;  // To prevent multiple clicks.\n",
              "      quickchartButtonEl.classList.add('colab-df-spinner');\n",
              "      try {\n",
              "        const charts = await google.colab.kernel.invokeFunction(\n",
              "            'suggestCharts', [key], {});\n",
              "      } catch (error) {\n",
              "        console.error('Error during call to suggestCharts:', error);\n",
              "      }\n",
              "      quickchartButtonEl.classList.remove('colab-df-spinner');\n",
              "      quickchartButtonEl.classList.add('colab-df-quickchart-complete');\n",
              "    }\n",
              "    (() => {\n",
              "      let quickchartButtonEl =\n",
              "        document.querySelector('#df-0a7fdfbc-2b99-498c-8818-2b9d415abe97 button');\n",
              "      quickchartButtonEl.style.display =\n",
              "        google.colab.kernel.accessAllowed ? 'block' : 'none';\n",
              "    })();\n",
              "  </script>\n",
              "</div>\n",
              "    </div>\n",
              "  </div>\n"
            ]
          },
          "metadata": {},
          "execution_count": 14
        }
      ]
    },
    {
      "cell_type": "code",
      "source": [
        "from sklearn.model_selection import train_test_split\n",
        "\n",
        "# We specify this so that the train and test data set always have the same rows, respectively\n",
        "np.random.seed(0)\n",
        "df_train, df_test = train_test_split(housing, train_size = 0.8, test_size = 0.2, random_state = 100)"
      ],
      "metadata": {
        "id": "_zTtPHAbY4FU"
      },
      "execution_count": 28,
      "outputs": []
    },
    {
      "cell_type": "code",
      "source": [
        "from sklearn.preprocessing import MinMaxScaler\n",
        "scaler = MinMaxScaler()\n",
        "# Apply scaler() to all the columns except the 'yes-no' and 'dummy' variables\n",
        "num_vars = ['area', 'bedrooms', 'bathrooms', 'stories', 'parking','price']\n",
        "\n",
        "df_train[num_vars] = scaler.fit_transform(df_train[num_vars])\n",
        "df_train.head()"
      ],
      "metadata": {
        "colab": {
          "base_uri": "https://localhost:8080/",
          "height": 206
        },
        "id": "fAiNBAW6Yh_D",
        "outputId": "d5af384d-4148-42e8-ceb1-cedc93578966"
      },
      "execution_count": 29,
      "outputs": [
        {
          "output_type": "execute_result",
          "data": {
            "text/plain": [
              "        price      area  bedrooms  bathrooms   stories  mainroad  guestroom  \\\n",
              "22   0.596970  0.432609       0.4   0.000000  0.000000         1          1   \n",
              "41   0.527273  0.314954       0.4   0.333333  1.000000         1          0   \n",
              "91   0.404242  0.342105       0.2   0.000000  0.000000         1          1   \n",
              "118  0.363636  0.319131       0.4   0.000000  0.000000         1          0   \n",
              "472  0.109091  0.124896       0.6   0.000000  0.333333         1          0   \n",
              "\n",
              "     basement  hotwaterheating  airconditioning   parking  prefarea  \\\n",
              "22          1                0                1  0.333333         0   \n",
              "41          0                0                1  0.000000         1   \n",
              "91          1                0                0  0.666667         1   \n",
              "118         1                0                1  0.000000         1   \n",
              "472         0                0                0  1.000000         0   \n",
              "\n",
              "    furnishingstatus  \n",
              "22         furnished  \n",
              "41         furnished  \n",
              "91         furnished  \n",
              "118        furnished  \n",
              "472   semi-furnished  "
            ],
            "text/html": [
              "\n",
              "  <div id=\"df-03c9097d-fcd1-4b27-8c13-91463cde9d6e\" class=\"colab-df-container\">\n",
              "    <div>\n",
              "<style scoped>\n",
              "    .dataframe tbody tr th:only-of-type {\n",
              "        vertical-align: middle;\n",
              "    }\n",
              "\n",
              "    .dataframe tbody tr th {\n",
              "        vertical-align: top;\n",
              "    }\n",
              "\n",
              "    .dataframe thead th {\n",
              "        text-align: right;\n",
              "    }\n",
              "</style>\n",
              "<table border=\"1\" class=\"dataframe\">\n",
              "  <thead>\n",
              "    <tr style=\"text-align: right;\">\n",
              "      <th></th>\n",
              "      <th>price</th>\n",
              "      <th>area</th>\n",
              "      <th>bedrooms</th>\n",
              "      <th>bathrooms</th>\n",
              "      <th>stories</th>\n",
              "      <th>mainroad</th>\n",
              "      <th>guestroom</th>\n",
              "      <th>basement</th>\n",
              "      <th>hotwaterheating</th>\n",
              "      <th>airconditioning</th>\n",
              "      <th>parking</th>\n",
              "      <th>prefarea</th>\n",
              "      <th>furnishingstatus</th>\n",
              "    </tr>\n",
              "  </thead>\n",
              "  <tbody>\n",
              "    <tr>\n",
              "      <th>22</th>\n",
              "      <td>0.596970</td>\n",
              "      <td>0.432609</td>\n",
              "      <td>0.4</td>\n",
              "      <td>0.000000</td>\n",
              "      <td>0.000000</td>\n",
              "      <td>1</td>\n",
              "      <td>1</td>\n",
              "      <td>1</td>\n",
              "      <td>0</td>\n",
              "      <td>1</td>\n",
              "      <td>0.333333</td>\n",
              "      <td>0</td>\n",
              "      <td>furnished</td>\n",
              "    </tr>\n",
              "    <tr>\n",
              "      <th>41</th>\n",
              "      <td>0.527273</td>\n",
              "      <td>0.314954</td>\n",
              "      <td>0.4</td>\n",
              "      <td>0.333333</td>\n",
              "      <td>1.000000</td>\n",
              "      <td>1</td>\n",
              "      <td>0</td>\n",
              "      <td>0</td>\n",
              "      <td>0</td>\n",
              "      <td>1</td>\n",
              "      <td>0.000000</td>\n",
              "      <td>1</td>\n",
              "      <td>furnished</td>\n",
              "    </tr>\n",
              "    <tr>\n",
              "      <th>91</th>\n",
              "      <td>0.404242</td>\n",
              "      <td>0.342105</td>\n",
              "      <td>0.2</td>\n",
              "      <td>0.000000</td>\n",
              "      <td>0.000000</td>\n",
              "      <td>1</td>\n",
              "      <td>1</td>\n",
              "      <td>1</td>\n",
              "      <td>0</td>\n",
              "      <td>0</td>\n",
              "      <td>0.666667</td>\n",
              "      <td>1</td>\n",
              "      <td>furnished</td>\n",
              "    </tr>\n",
              "    <tr>\n",
              "      <th>118</th>\n",
              "      <td>0.363636</td>\n",
              "      <td>0.319131</td>\n",
              "      <td>0.4</td>\n",
              "      <td>0.000000</td>\n",
              "      <td>0.000000</td>\n",
              "      <td>1</td>\n",
              "      <td>0</td>\n",
              "      <td>1</td>\n",
              "      <td>0</td>\n",
              "      <td>1</td>\n",
              "      <td>0.000000</td>\n",
              "      <td>1</td>\n",
              "      <td>furnished</td>\n",
              "    </tr>\n",
              "    <tr>\n",
              "      <th>472</th>\n",
              "      <td>0.109091</td>\n",
              "      <td>0.124896</td>\n",
              "      <td>0.6</td>\n",
              "      <td>0.000000</td>\n",
              "      <td>0.333333</td>\n",
              "      <td>1</td>\n",
              "      <td>0</td>\n",
              "      <td>0</td>\n",
              "      <td>0</td>\n",
              "      <td>0</td>\n",
              "      <td>1.000000</td>\n",
              "      <td>0</td>\n",
              "      <td>semi-furnished</td>\n",
              "    </tr>\n",
              "  </tbody>\n",
              "</table>\n",
              "</div>\n",
              "    <div class=\"colab-df-buttons\">\n",
              "\n",
              "  <div class=\"colab-df-container\">\n",
              "    <button class=\"colab-df-convert\" onclick=\"convertToInteractive('df-03c9097d-fcd1-4b27-8c13-91463cde9d6e')\"\n",
              "            title=\"Convert this dataframe to an interactive table.\"\n",
              "            style=\"display:none;\">\n",
              "\n",
              "  <svg xmlns=\"http://www.w3.org/2000/svg\" height=\"24px\" viewBox=\"0 -960 960 960\">\n",
              "    <path d=\"M120-120v-720h720v720H120Zm60-500h600v-160H180v160Zm220 220h160v-160H400v160Zm0 220h160v-160H400v160ZM180-400h160v-160H180v160Zm440 0h160v-160H620v160ZM180-180h160v-160H180v160Zm440 0h160v-160H620v160Z\"/>\n",
              "  </svg>\n",
              "    </button>\n",
              "\n",
              "  <style>\n",
              "    .colab-df-container {\n",
              "      display:flex;\n",
              "      gap: 12px;\n",
              "    }\n",
              "\n",
              "    .colab-df-convert {\n",
              "      background-color: #E8F0FE;\n",
              "      border: none;\n",
              "      border-radius: 50%;\n",
              "      cursor: pointer;\n",
              "      display: none;\n",
              "      fill: #1967D2;\n",
              "      height: 32px;\n",
              "      padding: 0 0 0 0;\n",
              "      width: 32px;\n",
              "    }\n",
              "\n",
              "    .colab-df-convert:hover {\n",
              "      background-color: #E2EBFA;\n",
              "      box-shadow: 0px 1px 2px rgba(60, 64, 67, 0.3), 0px 1px 3px 1px rgba(60, 64, 67, 0.15);\n",
              "      fill: #174EA6;\n",
              "    }\n",
              "\n",
              "    .colab-df-buttons div {\n",
              "      margin-bottom: 4px;\n",
              "    }\n",
              "\n",
              "    [theme=dark] .colab-df-convert {\n",
              "      background-color: #3B4455;\n",
              "      fill: #D2E3FC;\n",
              "    }\n",
              "\n",
              "    [theme=dark] .colab-df-convert:hover {\n",
              "      background-color: #434B5C;\n",
              "      box-shadow: 0px 1px 3px 1px rgba(0, 0, 0, 0.15);\n",
              "      filter: drop-shadow(0px 1px 2px rgba(0, 0, 0, 0.3));\n",
              "      fill: #FFFFFF;\n",
              "    }\n",
              "  </style>\n",
              "\n",
              "    <script>\n",
              "      const buttonEl =\n",
              "        document.querySelector('#df-03c9097d-fcd1-4b27-8c13-91463cde9d6e button.colab-df-convert');\n",
              "      buttonEl.style.display =\n",
              "        google.colab.kernel.accessAllowed ? 'block' : 'none';\n",
              "\n",
              "      async function convertToInteractive(key) {\n",
              "        const element = document.querySelector('#df-03c9097d-fcd1-4b27-8c13-91463cde9d6e');\n",
              "        const dataTable =\n",
              "          await google.colab.kernel.invokeFunction('convertToInteractive',\n",
              "                                                    [key], {});\n",
              "        if (!dataTable) return;\n",
              "\n",
              "        const docLinkHtml = 'Like what you see? Visit the ' +\n",
              "          '<a target=\"_blank\" href=https://colab.research.google.com/notebooks/data_table.ipynb>data table notebook</a>'\n",
              "          + ' to learn more about interactive tables.';\n",
              "        element.innerHTML = '';\n",
              "        dataTable['output_type'] = 'display_data';\n",
              "        await google.colab.output.renderOutput(dataTable, element);\n",
              "        const docLink = document.createElement('div');\n",
              "        docLink.innerHTML = docLinkHtml;\n",
              "        element.appendChild(docLink);\n",
              "      }\n",
              "    </script>\n",
              "  </div>\n",
              "\n",
              "\n",
              "<div id=\"df-ad098d90-2fe4-4d0f-a813-c8319fec32a8\">\n",
              "  <button class=\"colab-df-quickchart\" onclick=\"quickchart('df-ad098d90-2fe4-4d0f-a813-c8319fec32a8')\"\n",
              "            title=\"Suggest charts\"\n",
              "            style=\"display:none;\">\n",
              "\n",
              "<svg xmlns=\"http://www.w3.org/2000/svg\" height=\"24px\"viewBox=\"0 0 24 24\"\n",
              "     width=\"24px\">\n",
              "    <g>\n",
              "        <path d=\"M19 3H5c-1.1 0-2 .9-2 2v14c0 1.1.9 2 2 2h14c1.1 0 2-.9 2-2V5c0-1.1-.9-2-2-2zM9 17H7v-7h2v7zm4 0h-2V7h2v10zm4 0h-2v-4h2v4z\"/>\n",
              "    </g>\n",
              "</svg>\n",
              "  </button>\n",
              "\n",
              "<style>\n",
              "  .colab-df-quickchart {\n",
              "      --bg-color: #E8F0FE;\n",
              "      --fill-color: #1967D2;\n",
              "      --hover-bg-color: #E2EBFA;\n",
              "      --hover-fill-color: #174EA6;\n",
              "      --disabled-fill-color: #AAA;\n",
              "      --disabled-bg-color: #DDD;\n",
              "  }\n",
              "\n",
              "  [theme=dark] .colab-df-quickchart {\n",
              "      --bg-color: #3B4455;\n",
              "      --fill-color: #D2E3FC;\n",
              "      --hover-bg-color: #434B5C;\n",
              "      --hover-fill-color: #FFFFFF;\n",
              "      --disabled-bg-color: #3B4455;\n",
              "      --disabled-fill-color: #666;\n",
              "  }\n",
              "\n",
              "  .colab-df-quickchart {\n",
              "    background-color: var(--bg-color);\n",
              "    border: none;\n",
              "    border-radius: 50%;\n",
              "    cursor: pointer;\n",
              "    display: none;\n",
              "    fill: var(--fill-color);\n",
              "    height: 32px;\n",
              "    padding: 0;\n",
              "    width: 32px;\n",
              "  }\n",
              "\n",
              "  .colab-df-quickchart:hover {\n",
              "    background-color: var(--hover-bg-color);\n",
              "    box-shadow: 0 1px 2px rgba(60, 64, 67, 0.3), 0 1px 3px 1px rgba(60, 64, 67, 0.15);\n",
              "    fill: var(--button-hover-fill-color);\n",
              "  }\n",
              "\n",
              "  .colab-df-quickchart-complete:disabled,\n",
              "  .colab-df-quickchart-complete:disabled:hover {\n",
              "    background-color: var(--disabled-bg-color);\n",
              "    fill: var(--disabled-fill-color);\n",
              "    box-shadow: none;\n",
              "  }\n",
              "\n",
              "  .colab-df-spinner {\n",
              "    border: 2px solid var(--fill-color);\n",
              "    border-color: transparent;\n",
              "    border-bottom-color: var(--fill-color);\n",
              "    animation:\n",
              "      spin 1s steps(1) infinite;\n",
              "  }\n",
              "\n",
              "  @keyframes spin {\n",
              "    0% {\n",
              "      border-color: transparent;\n",
              "      border-bottom-color: var(--fill-color);\n",
              "      border-left-color: var(--fill-color);\n",
              "    }\n",
              "    20% {\n",
              "      border-color: transparent;\n",
              "      border-left-color: var(--fill-color);\n",
              "      border-top-color: var(--fill-color);\n",
              "    }\n",
              "    30% {\n",
              "      border-color: transparent;\n",
              "      border-left-color: var(--fill-color);\n",
              "      border-top-color: var(--fill-color);\n",
              "      border-right-color: var(--fill-color);\n",
              "    }\n",
              "    40% {\n",
              "      border-color: transparent;\n",
              "      border-right-color: var(--fill-color);\n",
              "      border-top-color: var(--fill-color);\n",
              "    }\n",
              "    60% {\n",
              "      border-color: transparent;\n",
              "      border-right-color: var(--fill-color);\n",
              "    }\n",
              "    80% {\n",
              "      border-color: transparent;\n",
              "      border-right-color: var(--fill-color);\n",
              "      border-bottom-color: var(--fill-color);\n",
              "    }\n",
              "    90% {\n",
              "      border-color: transparent;\n",
              "      border-bottom-color: var(--fill-color);\n",
              "    }\n",
              "  }\n",
              "</style>\n",
              "\n",
              "  <script>\n",
              "    async function quickchart(key) {\n",
              "      const quickchartButtonEl =\n",
              "        document.querySelector('#' + key + ' button');\n",
              "      quickchartButtonEl.disabled = true;  // To prevent multiple clicks.\n",
              "      quickchartButtonEl.classList.add('colab-df-spinner');\n",
              "      try {\n",
              "        const charts = await google.colab.kernel.invokeFunction(\n",
              "            'suggestCharts', [key], {});\n",
              "      } catch (error) {\n",
              "        console.error('Error during call to suggestCharts:', error);\n",
              "      }\n",
              "      quickchartButtonEl.classList.remove('colab-df-spinner');\n",
              "      quickchartButtonEl.classList.add('colab-df-quickchart-complete');\n",
              "    }\n",
              "    (() => {\n",
              "      let quickchartButtonEl =\n",
              "        document.querySelector('#df-ad098d90-2fe4-4d0f-a813-c8319fec32a8 button');\n",
              "      quickchartButtonEl.style.display =\n",
              "        google.colab.kernel.accessAllowed ? 'block' : 'none';\n",
              "    })();\n",
              "  </script>\n",
              "</div>\n",
              "    </div>\n",
              "  </div>\n"
            ]
          },
          "metadata": {},
          "execution_count": 29
        }
      ]
    },
    {
      "cell_type": "code",
      "source": [
        "# Separate features and labels\n",
        "y_train= df_train[num_vars].values[:, 5]  # get input values from first column -- X is a list here\n",
        "x_train = df_train[num_vars].values[:, (0,1,2,3,4)]  # get output values from second column -- Y is the list here\n",
        "m = len(y_train)  # Number of training examples\n",
        "n = len(x_train)  # Number of training examples"
      ],
      "metadata": {
        "id": "0rzeAx0HZD8E"
      },
      "execution_count": 92,
      "outputs": []
    },
    {
      "cell_type": "code",
      "source": [
        "y_train = torch.tensor(y_train)\n",
        "x_train = torch.tensor(x_train)"
      ],
      "metadata": {
        "id": "WbA1yG_tZkC0"
      },
      "execution_count": 93,
      "outputs": []
    },
    {
      "cell_type": "code",
      "source": [
        "def model2(parmas,x_train):  #Linear model = y_train = return\n",
        "    w4, w3, w2, w1, w0, b = params\n",
        "    return w4*x_train[:,4]+w3*x_train[:,3]+w2*x_train[:,2] +w1* x_train[:,1]+w0*x_train[:,0]+b"
      ],
      "metadata": {
        "id": "hOdAUeezZvDU"
      },
      "execution_count": 118,
      "outputs": []
    },
    {
      "cell_type": "code",
      "source": [
        "def loss_fn2(t_p, y_train):\n",
        "  square_diff = (t_p - y_train)**2\n",
        "  return square_diff.mean();"
      ],
      "metadata": {
        "id": "E7E3sVR5aQH0"
      },
      "execution_count": 119,
      "outputs": []
    },
    {
      "cell_type": "code",
      "source": [
        "w1 = torch.ones((), requires_grad=True)\n",
        "w2 = torch.ones((), requires_grad=True)\n",
        "w3 = torch.ones((), requires_grad=True)\n",
        "w4 = torch.ones((), requires_grad=True)\n",
        "#w5 = torch.ones((), requires_grad=True)\n",
        "b = torch.zeros((), requires_grad=True)"
      ],
      "metadata": {
        "id": "w7HdUlRCc4Y7"
      },
      "execution_count": 120,
      "outputs": []
    },
    {
      "cell_type": "code",
      "source": [
        "n_samples = x_train.shape[0]\n",
        "n_val = int(0.2 * n_samples)\n",
        "\n",
        "shuffled_indices = torch.randperm(n_samples)\n",
        "\n",
        "train_indices = shuffled_indices[:-n_val]\n",
        "val_indices = shuffled_indices[-n_val:]\n",
        "\n",
        "train_indices, val_indices"
      ],
      "metadata": {
        "colab": {
          "base_uri": "https://localhost:8080/"
        },
        "id": "sM3T7tm6dAub",
        "outputId": "f6dba816-54f7-4bd3-cb30-7946c46e0d05"
      },
      "execution_count": 121,
      "outputs": [
        {
          "output_type": "execute_result",
          "data": {
            "text/plain": [
              "(tensor([100, 125, 202, 252, 272,  93, 421, 402, 170, 296, 345, 405, 110, 348,\n",
              "          98, 376, 388, 403, 153, 301,  51, 271, 160,  69,  88, 242, 279, 434,\n",
              "         299, 222, 357, 399, 373, 291,  29,  47, 166, 295, 167, 161,  19, 340,\n",
              "         362, 142,  79,  40, 408, 308, 227, 429, 391, 277, 315, 121, 339, 283,\n",
              "         256, 323, 302,  75, 328,  36, 215,  30, 285, 224,   6, 106, 395,  33,\n",
              "         253, 264, 390, 337, 270,  24, 425, 365, 267, 396, 330, 245, 394, 239,\n",
              "         111, 363, 243, 338, 133, 190, 162, 213, 360, 107, 136, 154, 247, 251,\n",
              "         297,  68,  10,  54, 355, 118, 335, 369, 159, 139, 380, 200, 307, 179,\n",
              "         417,  61,  66, 268,  62, 411, 259,  28, 149,  44, 313,  21, 336,  57,\n",
              "         115, 420, 325, 137, 174, 326, 129, 424, 423, 281, 155, 143, 305, 230,\n",
              "         406, 311, 105, 312,  52,   2,  99, 212, 132, 286, 196, 209, 397, 126,\n",
              "         173,  17,  20, 269,  89, 366, 158, 124,  80, 341, 430, 418,   0, 432,\n",
              "         389, 250, 379, 112, 317, 210, 404, 175,  56,  22, 300, 114, 131, 140,\n",
              "         433, 378, 383, 122, 426,  92, 303, 371,  76, 304, 187, 233, 146, 415,\n",
              "         172, 346, 332,  53,  48, 280, 150, 103, 364,  67, 201, 203, 226, 130,\n",
              "          84, 352, 156, 354,  65, 427, 410, 102, 211, 356, 238, 148, 214, 168,\n",
              "         235, 368, 191,  12,   1, 164, 435,  45, 310,  15, 182, 258, 381, 188,\n",
              "           9, 278, 353,  71, 138, 293, 181, 262, 254,  38, 261, 386,  46, 240,\n",
              "         387,  81, 216, 400, 290,  34,  16,  18, 204,  41,  32, 361, 178, 119,\n",
              "         145, 123, 184,  37, 324, 319, 343, 236, 231,  73, 169, 331, 144, 171,\n",
              "         318,  91, 101, 249, 117, 329, 382, 108, 260, 407, 288, 183, 294, 241,\n",
              "           5, 322, 413, 109, 185,  86,  26, 229, 342,  85, 193, 409, 393, 314,\n",
              "          13, 284, 244, 422, 255, 135, 265, 206, 306,  43, 372, 116, 375, 298,\n",
              "         176, 370, 225, 344, 287, 134,  14, 228,  27, 198,  87, 219, 419, 282,\n",
              "         309,  94, 120, 266, 234, 367,  77, 276, 246, 220, 412, 327, 358]),\n",
              " tensor([ 59,  25,  60,  64,  83,  78, 401, 431, 316,  31,  39,  95, 275,  50,\n",
              "           3, 428, 195,  42, 292, 180, 351, 334, 218, 127, 273,  74, 141, 217,\n",
              "         320, 194,  90,  55,  11, 197,  82,  58, 223,  72, 189, 199, 163, 237,\n",
              "         398, 392, 177,  70, 321, 104,   8, 377, 384,  23, 152,  63, 113, 414,\n",
              "          35, 274, 349, 416, 186,  49,  96, 232, 208,   7, 385, 151, 192, 207,\n",
              "         221, 165,  97, 257, 347,   4, 147, 263, 374, 289, 205, 333, 248, 350,\n",
              "         157, 359, 128]))"
            ]
          },
          "metadata": {},
          "execution_count": 121
        }
      ]
    },
    {
      "cell_type": "code",
      "source": [
        "train_x = x_train[train_indices]\n",
        "train_y = y_train[train_indices]\n",
        "\n",
        "val_x = x_train[val_indices]\n",
        "val_y= y_train[val_indices]"
      ],
      "metadata": {
        "id": "It2GJY6BdEdL"
      },
      "execution_count": 122,
      "outputs": []
    },
    {
      "cell_type": "code",
      "source": [
        "print(\"train_x shape:\", train_x.shape)\n",
        "print(\"train_y shape:\", train_y.shape)\n",
        "print(\"val_x shape:\", val_x.shape)\n",
        "print(\"val_y shape:\", val_y.shape)"
      ],
      "metadata": {
        "colab": {
          "base_uri": "https://localhost:8080/"
        },
        "id": "ZbPskjjFjCVY",
        "outputId": "703147dd-7348-4f0e-8c32-be051a1c240a"
      },
      "execution_count": 123,
      "outputs": [
        {
          "output_type": "stream",
          "name": "stdout",
          "text": [
            "train_x shape: torch.Size([349, 5])\n",
            "train_y shape: torch.Size([349])\n",
            "val_x shape: torch.Size([87, 5])\n",
            "val_y shape: torch.Size([87])\n"
          ]
        }
      ]
    },
    {
      "cell_type": "code",
      "source": [
        "def training_loop(n_epochs, optimizer, params, train_x, val_x, train_y, val_y):\n",
        "    for epoch in range(1, n_epochs + 1):\n",
        "\n",
        "        train_t_p = model2(params, train_x)\n",
        "        train_loss = loss_fn2(train_t_p, train_y)\n",
        "        with torch.no_grad():\n",
        "\n",
        "          val_t_p = model2(params, val_x)\n",
        "          val_loss = loss_fn2(val_t_p, val_y)\n",
        "\n",
        "        optimizer.zero_grad()\n",
        "        train_loss.backward()\n",
        "        optimizer.step()\n",
        "\n",
        "        if epoch <= 2 or epoch % 500 == 0:\n",
        "            print(f\"Epoch {epoch}, Training loss {train_loss.item():.4f},\"\n",
        "                  f\" Validation loss {val_loss.item():.4f}\")\n",
        "\n",
        "    return params"
      ],
      "metadata": {
        "id": "XHD9JRvri7Ip"
      },
      "execution_count": 126,
      "outputs": []
    },
    {
      "cell_type": "markdown",
      "source": [
        "SGD Training"
      ],
      "metadata": {
        "id": "gbmp0jDKk1Po"
      }
    },
    {
      "cell_type": "code",
      "source": [
        "print(\"Learning rate 0.01:\")\n",
        "params = torch.tensor([1.0, 1.0, 1.0, 1.0,1.0, 0.0], requires_grad=True)\n",
        "learning_rates = 0.01\n",
        "optimizer =optim.SGD([params], lr=learning_rates)\n",
        "training_loop(\n",
        "              n_epochs=5000,\n",
        "              optimizer=optimizer,\n",
        "              params=params,\n",
        "              train_x=train_x,\n",
        "              val_x=val_x,\n",
        "              train_y=train_y,\n",
        "              val_y=val_y\n",
        "          )"
      ],
      "metadata": {
        "colab": {
          "base_uri": "https://localhost:8080/"
        },
        "id": "3IwxgrcOfFor",
        "outputId": "f87b3334-b981-4a8d-dcc9-02e306c59fe2"
      },
      "execution_count": 144,
      "outputs": [
        {
          "output_type": "stream",
          "name": "stdout",
          "text": [
            "Learning rate 0.01:\n",
            "Epoch 1, Training loss 1.2053, Validation loss 1.3251\n",
            "Epoch 2, Training loss 1.1490, Validation loss 1.2661\n",
            "Epoch 500, Training loss 0.0499, Validation loss 0.0609\n",
            "Epoch 1000, Training loss 0.0233, Validation loss 0.0271\n",
            "Epoch 1500, Training loss 0.0166, Validation loss 0.0174\n",
            "Epoch 2000, Training loss 0.0144, Validation loss 0.0140\n",
            "Epoch 2500, Training loss 0.0135, Validation loss 0.0125\n",
            "Epoch 3000, Training loss 0.0129, Validation loss 0.0118\n",
            "Epoch 3500, Training loss 0.0126, Validation loss 0.0114\n",
            "Epoch 4000, Training loss 0.0124, Validation loss 0.0112\n",
            "Epoch 4500, Training loss 0.0122, Validation loss 0.0110\n",
            "Epoch 5000, Training loss 0.0121, Validation loss 0.0109\n"
          ]
        },
        {
          "output_type": "execute_result",
          "data": {
            "text/plain": [
              "tensor([0.1009, 0.1175, 0.2902, 0.1951, 0.4523, 0.0024], requires_grad=True)"
            ]
          },
          "metadata": {},
          "execution_count": 144
        }
      ]
    },
    {
      "cell_type": "code",
      "source": [
        "print(\"Learning rate 0.1:\")\n",
        "params = torch.tensor([1.0, 1.0, 1.0, 1.0,1.0, 0.0], requires_grad=True)\n",
        "learning_rates = 0.1\n",
        "optimizer =optim.SGD([params], lr=learning_rates)\n",
        "training_loop(\n",
        "              n_epochs=5000,\n",
        "              optimizer=optimizer,\n",
        "              params=params,\n",
        "              train_x=train_x,\n",
        "              val_x=val_x,\n",
        "              train_y=train_y,\n",
        "              val_y=val_y\n",
        "          )"
      ],
      "metadata": {
        "colab": {
          "base_uri": "https://localhost:8080/"
        },
        "id": "W1nAZ6yJkQ0A",
        "outputId": "2ac747cc-c290-4cf6-a051-f2c1b756277d"
      },
      "execution_count": 131,
      "outputs": [
        {
          "output_type": "stream",
          "name": "stdout",
          "text": [
            "Learning rate 0.1:\n",
            "Epoch 1, Training loss 1.2053, Validation loss 1.3251\n",
            "Epoch 2, Training loss 0.7116, Validation loss 0.8055\n",
            "Epoch 500, Training loss 0.0121, Validation loss 0.0109\n",
            "Epoch 1000, Training loss 0.0118, Validation loss 0.0106\n",
            "Epoch 1500, Training loss 0.0117, Validation loss 0.0106\n",
            "Epoch 2000, Training loss 0.0117, Validation loss 0.0105\n",
            "Epoch 2500, Training loss 0.0117, Validation loss 0.0105\n",
            "Epoch 3000, Training loss 0.0117, Validation loss 0.0105\n",
            "Epoch 3500, Training loss 0.0117, Validation loss 0.0105\n",
            "Epoch 4000, Training loss 0.0117, Validation loss 0.0105\n",
            "Epoch 4500, Training loss 0.0117, Validation loss 0.0105\n",
            "Epoch 5000, Training loss 0.0117, Validation loss 0.0105\n"
          ]
        },
        {
          "output_type": "execute_result",
          "data": {
            "text/plain": [
              "tensor([0.1147, 0.1481, 0.3100, 0.0553, 0.4101, 0.0535], requires_grad=True)"
            ]
          },
          "metadata": {},
          "execution_count": 131
        }
      ]
    },
    {
      "cell_type": "code",
      "source": [
        "print(\"Learning rate 0.001:\")\n",
        "params = torch.tensor([1.0, 1.0, 1.0, 1.0,1.0, 0.0], requires_grad=True)\n",
        "learning_rates = 0.001\n",
        "optimizer =optim.SGD([params], lr=learning_rates)\n",
        "training_loop(\n",
        "              n_epochs=5000,\n",
        "              optimizer=optimizer,\n",
        "              params=params,\n",
        "              train_x=train_x,\n",
        "              val_x=val_x,\n",
        "              train_y=train_y,\n",
        "              val_y=val_y\n",
        "          )"
      ],
      "metadata": {
        "colab": {
          "base_uri": "https://localhost:8080/"
        },
        "id": "YXfgywaikUSg",
        "outputId": "3baa89b9-3beb-4e88-b916-9970cdc2f77f"
      },
      "execution_count": 133,
      "outputs": [
        {
          "output_type": "stream",
          "name": "stdout",
          "text": [
            "Learning rate 0.001:\n",
            "Epoch 1, Training loss 1.2053, Validation loss 1.3251\n",
            "Epoch 2, Training loss 1.1996, Validation loss 1.3191\n",
            "Epoch 500, Training loss 0.2150, Validation loss 0.2639\n",
            "Epoch 1000, Training loss 0.1333, Validation loss 0.1630\n",
            "Epoch 1500, Training loss 0.1133, Validation loss 0.1366\n",
            "Epoch 2000, Training loss 0.0994, Validation loss 0.1196\n",
            "Epoch 2500, Training loss 0.0877, Validation loss 0.1058\n",
            "Epoch 3000, Training loss 0.0777, Validation loss 0.0940\n",
            "Epoch 3500, Training loss 0.0691, Validation loss 0.0839\n",
            "Epoch 4000, Training loss 0.0617, Validation loss 0.0751\n",
            "Epoch 4500, Training loss 0.0553, Validation loss 0.0675\n",
            "Epoch 5000, Training loss 0.0499, Validation loss 0.0608\n"
          ]
        },
        {
          "output_type": "execute_result",
          "data": {
            "text/plain": [
              "tensor([ 0.4083,  0.3366,  0.6593,  0.5784,  0.7084, -0.3968],\n",
              "       requires_grad=True)"
            ]
          },
          "metadata": {},
          "execution_count": 133
        }
      ]
    },
    {
      "cell_type": "code",
      "source": [
        "print(\"Learning rate 0.0001:\")\n",
        "params = torch.tensor([1.0, 1.0, 1.0, 1.0,1.0, 0.0], requires_grad=True)\n",
        "learning_rates = 0.0001\n",
        "optimizer =optim.SGD([params], lr=learning_rates)\n",
        "training_loop(\n",
        "              n_epochs=5000,\n",
        "              optimizer=optimizer,\n",
        "              params=params,\n",
        "              train_x=train_x,\n",
        "              val_x=val_x,\n",
        "              train_y=train_y,\n",
        "              val_y=val_y\n",
        "          )"
      ],
      "metadata": {
        "colab": {
          "base_uri": "https://localhost:8080/"
        },
        "id": "Ll9YKTrqkWy0",
        "outputId": "457f6026-beb2-4303-ad2d-ba96beb33468"
      },
      "execution_count": 135,
      "outputs": [
        {
          "output_type": "stream",
          "name": "stdout",
          "text": [
            "Learning rate 0.0001:\n",
            "Epoch 1, Training loss 1.2053, Validation loss 1.3251\n",
            "Epoch 2, Training loss 1.2048, Validation loss 1.3245\n",
            "Epoch 500, Training loss 0.9556, Validation loss 1.0632\n",
            "Epoch 1000, Training loss 0.7646, Validation loss 0.8616\n",
            "Epoch 1500, Training loss 0.6188, Validation loss 0.7066\n",
            "Epoch 2000, Training loss 0.5074, Validation loss 0.5871\n",
            "Epoch 2500, Training loss 0.4221, Validation loss 0.4949\n",
            "Epoch 3000, Training loss 0.3568, Validation loss 0.4234\n",
            "Epoch 3500, Training loss 0.3066, Validation loss 0.3678\n",
            "Epoch 4000, Training loss 0.2679, Validation loss 0.3245\n",
            "Epoch 4500, Training loss 0.2380, Validation loss 0.2905\n",
            "Epoch 5000, Training loss 0.2148, Validation loss 0.2637\n"
          ]
        },
        {
          "output_type": "execute_result",
          "data": {
            "text/plain": [
              "tensor([ 0.8058,  0.7669,  0.9072,  0.7645,  0.8533, -0.5041],\n",
              "       requires_grad=True)"
            ]
          },
          "metadata": {},
          "execution_count": 135
        }
      ]
    },
    {
      "cell_type": "markdown",
      "source": [
        "ADAM training"
      ],
      "metadata": {
        "id": "NyP-inpTk4So"
      }
    },
    {
      "cell_type": "code",
      "source": [
        "print(\"Learning rate 0.01:\")\n",
        "params = torch.tensor([1.0, 1.0, 1.0, 1.0,1.0, 0.0], requires_grad=True)\n",
        "learning_rates = 0.01\n",
        "optimizer =optim.Adam([params], lr=learning_rates)\n",
        "training_loop(\n",
        "              n_epochs=5000,\n",
        "              optimizer=optimizer,\n",
        "              params=params,\n",
        "              train_x=train_x,\n",
        "              val_x=val_x,\n",
        "              train_y=train_y,\n",
        "              val_y=val_y\n",
        "          )"
      ],
      "metadata": {
        "colab": {
          "base_uri": "https://localhost:8080/"
        },
        "id": "7BY-jcdZk4Ie",
        "outputId": "101124bf-59ef-453d-ff77-c75a546541f0"
      },
      "execution_count": 136,
      "outputs": [
        {
          "output_type": "stream",
          "name": "stdout",
          "text": [
            "Learning rate 0.01:\n",
            "Epoch 1, Training loss 1.2053, Validation loss 1.3251\n",
            "Epoch 2, Training loss 1.1564, Validation loss 1.2734\n",
            "Epoch 500, Training loss 0.0138, Validation loss 0.0142\n",
            "Epoch 1000, Training loss 0.0119, Validation loss 0.0110\n",
            "Epoch 1500, Training loss 0.0118, Validation loss 0.0106\n",
            "Epoch 2000, Training loss 0.0117, Validation loss 0.0105\n",
            "Epoch 2500, Training loss 0.0117, Validation loss 0.0105\n",
            "Epoch 3000, Training loss 0.0117, Validation loss 0.0105\n",
            "Epoch 3500, Training loss 0.0117, Validation loss 0.0105\n",
            "Epoch 4000, Training loss 0.0117, Validation loss 0.0105\n",
            "Epoch 4500, Training loss 0.0117, Validation loss 0.0105\n",
            "Epoch 5000, Training loss 0.0117, Validation loss 0.0105\n"
          ]
        },
        {
          "output_type": "execute_result",
          "data": {
            "text/plain": [
              "tensor([0.1147, 0.1481, 0.3100, 0.0553, 0.4101, 0.0535], requires_grad=True)"
            ]
          },
          "metadata": {},
          "execution_count": 136
        }
      ]
    },
    {
      "cell_type": "code",
      "source": [
        "print(\"Learning rate 0.001:\")\n",
        "params = torch.tensor([1.0, 1.0, 1.0, 1.0,1.0, 0.0], requires_grad=True)\n",
        "learning_rates = 0.001\n",
        "optimizer =optim.Adam([params], lr=learning_rates)\n",
        "training_loop(\n",
        "              n_epochs=5000,\n",
        "              optimizer=optimizer,\n",
        "              params=params,\n",
        "              train_x=train_x,\n",
        "              val_x=val_x,\n",
        "              train_y=train_y,\n",
        "              val_y=val_y\n",
        "          )"
      ],
      "metadata": {
        "colab": {
          "base_uri": "https://localhost:8080/"
        },
        "id": "GEOWRBcAk-A2",
        "outputId": "0fe0970d-9a25-413e-d378-acf0c1d3e001"
      },
      "execution_count": 137,
      "outputs": [
        {
          "output_type": "stream",
          "name": "stdout",
          "text": [
            "Learning rate 0.001:\n",
            "Epoch 1, Training loss 1.2053, Validation loss 1.3251\n",
            "Epoch 2, Training loss 1.2004, Validation loss 1.3198\n",
            "Epoch 500, Training loss 0.1216, Validation loss 0.1547\n",
            "Epoch 1000, Training loss 0.0502, Validation loss 0.0628\n",
            "Epoch 1500, Training loss 0.0340, Validation loss 0.0426\n",
            "Epoch 2000, Training loss 0.0234, Validation loss 0.0292\n",
            "Epoch 2500, Training loss 0.0177, Validation loss 0.0213\n",
            "Epoch 3000, Training loss 0.0152, Validation loss 0.0170\n",
            "Epoch 3500, Training loss 0.0139, Validation loss 0.0146\n",
            "Epoch 4000, Training loss 0.0132, Validation loss 0.0132\n",
            "Epoch 4500, Training loss 0.0126, Validation loss 0.0122\n",
            "Epoch 5000, Training loss 0.0122, Validation loss 0.0115\n"
          ]
        },
        {
          "output_type": "execute_result",
          "data": {
            "text/plain": [
              "tensor([ 0.1103,  0.1220,  0.2627,  0.2299,  0.4298, -0.0075],\n",
              "       requires_grad=True)"
            ]
          },
          "metadata": {},
          "execution_count": 137
        }
      ]
    },
    {
      "cell_type": "code",
      "source": [
        "print(\"Learning rate 0.1:\")\n",
        "params = torch.tensor([1.0, 1.0, 1.0, 1.0,1.0, 0.0], requires_grad=True)\n",
        "learning_rates = 0.1\n",
        "optimizer =optim.Adam([params], lr=learning_rates)\n",
        "training_loop(\n",
        "              n_epochs=5000,\n",
        "              optimizer=optimizer,\n",
        "              params=params,\n",
        "              train_x=train_x,\n",
        "              val_x=val_x,\n",
        "              train_y=train_y,\n",
        "              val_y=val_y\n",
        "          )"
      ],
      "metadata": {
        "colab": {
          "base_uri": "https://localhost:8080/"
        },
        "id": "-6x2YCSylClM",
        "outputId": "a6dddec3-281a-4a08-8f07-5f9b37aaebb3"
      },
      "execution_count": 138,
      "outputs": [
        {
          "output_type": "stream",
          "name": "stdout",
          "text": [
            "Learning rate 0.1:\n",
            "Epoch 1, Training loss 1.2053, Validation loss 1.3251\n",
            "Epoch 2, Training loss 0.7647, Validation loss 0.8581\n",
            "Epoch 500, Training loss 0.0117, Validation loss 0.0105\n",
            "Epoch 1000, Training loss 0.0117, Validation loss 0.0105\n",
            "Epoch 1500, Training loss 0.0117, Validation loss 0.0105\n",
            "Epoch 2000, Training loss 0.0117, Validation loss 0.0105\n",
            "Epoch 2500, Training loss 0.0117, Validation loss 0.0105\n",
            "Epoch 3000, Training loss 0.0117, Validation loss 0.0105\n",
            "Epoch 3500, Training loss 0.0117, Validation loss 0.0105\n",
            "Epoch 4000, Training loss 0.0117, Validation loss 0.0105\n",
            "Epoch 4500, Training loss 0.0117, Validation loss 0.0105\n",
            "Epoch 5000, Training loss 0.0117, Validation loss 0.0105\n"
          ]
        },
        {
          "output_type": "execute_result",
          "data": {
            "text/plain": [
              "tensor([0.1147, 0.1481, 0.3100, 0.0553, 0.4101, 0.0535], requires_grad=True)"
            ]
          },
          "metadata": {},
          "execution_count": 138
        }
      ]
    },
    {
      "cell_type": "code",
      "source": [
        "print(\"Learning rate 0.0001:\")\n",
        "params = torch.tensor([1.0, 1.0, 1.0, 1.0,1.0, 0.0], requires_grad=True)\n",
        "learning_rates = 0.0001\n",
        "optimizer =optim.Adam([params], lr=learning_rates)\n",
        "training_loop(\n",
        "              n_epochs=5000,\n",
        "              optimizer=optimizer,\n",
        "              params=params,\n",
        "              train_x=train_x,\n",
        "              val_x=val_x,\n",
        "              train_y=train_y,\n",
        "              val_y=val_y\n",
        "          )"
      ],
      "metadata": {
        "colab": {
          "base_uri": "https://localhost:8080/"
        },
        "id": "-xM-34j5lGiG",
        "outputId": "0577da6a-3838-4f32-e85e-e35915b62b52"
      },
      "execution_count": 140,
      "outputs": [
        {
          "output_type": "stream",
          "name": "stdout",
          "text": [
            "Learning rate 0.0001:\n",
            "Epoch 1, Training loss 1.2053, Validation loss 1.3251\n",
            "Epoch 2, Training loss 1.2048, Validation loss 1.3245\n",
            "Epoch 500, Training loss 0.9774, Validation loss 1.0840\n",
            "Epoch 1000, Training loss 0.7841, Validation loss 0.8787\n",
            "Epoch 1500, Training loss 0.6215, Validation loss 0.7050\n",
            "Epoch 2000, Training loss 0.4862, Validation loss 0.5594\n",
            "Epoch 2500, Training loss 0.3750, Validation loss 0.4386\n",
            "Epoch 3000, Training loss 0.2853, Validation loss 0.3402\n",
            "Epoch 3500, Training loss 0.2148, Validation loss 0.2617\n",
            "Epoch 4000, Training loss 0.1611, Validation loss 0.2008\n",
            "Epoch 4500, Training loss 0.1221, Validation loss 0.1553\n",
            "Epoch 5000, Training loss 0.0951, Validation loss 0.1227\n"
          ]
        },
        {
          "output_type": "execute_result",
          "data": {
            "text/plain": [
              "tensor([ 0.5970,  0.5971,  0.5928,  0.6162,  0.6163, -0.3688],\n",
              "       requires_grad=True)"
            ]
          },
          "metadata": {},
          "execution_count": 140
        }
      ]
    },
    {
      "cell_type": "code",
      "source": [
        "from sklearn.preprocessing import MinMaxScaler\n",
        "scaler = MinMaxScaler()\n",
        "# Apply scaler() to all the columns except the 'yes-no' and 'dummy' variables\n",
        "num_vars = ['price','area', 'bedrooms', 'bathrooms', 'stories', 'mainroad', 'guestroom', 'basement', 'hotwaterheating', 'airconditioning', 'parking','prefarea']\n",
        "\n",
        "df_train[num_vars] = scaler.fit_transform(df_train[num_vars])\n",
        "df_train.head()"
      ],
      "metadata": {
        "colab": {
          "base_uri": "https://localhost:8080/",
          "height": 206
        },
        "id": "mLQ1_Lj8mcaw",
        "outputId": "6317f3d1-12ce-4db6-b6d4-39fcf0b50508"
      },
      "execution_count": 171,
      "outputs": [
        {
          "output_type": "execute_result",
          "data": {
            "text/plain": [
              "        price      area  bedrooms  bathrooms   stories  mainroad  guestroom  \\\n",
              "22   0.596970  0.432609       0.4   0.000000  0.000000       1.0        1.0   \n",
              "41   0.527273  0.314954       0.4   0.333333  1.000000       1.0        0.0   \n",
              "91   0.404242  0.342105       0.2   0.000000  0.000000       1.0        1.0   \n",
              "118  0.363636  0.319131       0.4   0.000000  0.000000       1.0        0.0   \n",
              "472  0.109091  0.124896       0.6   0.000000  0.333333       1.0        0.0   \n",
              "\n",
              "     basement  hotwaterheating  airconditioning   parking  prefarea  \\\n",
              "22        1.0              0.0              1.0  0.333333       0.0   \n",
              "41        0.0              0.0              1.0  0.000000       1.0   \n",
              "91        1.0              0.0              0.0  0.666667       1.0   \n",
              "118       1.0              0.0              1.0  0.000000       1.0   \n",
              "472       0.0              0.0              0.0  1.000000       0.0   \n",
              "\n",
              "    furnishingstatus  \n",
              "22         furnished  \n",
              "41         furnished  \n",
              "91         furnished  \n",
              "118        furnished  \n",
              "472   semi-furnished  "
            ],
            "text/html": [
              "\n",
              "  <div id=\"df-0f6d86f4-51ad-47fd-aa61-7634c4d2957a\" class=\"colab-df-container\">\n",
              "    <div>\n",
              "<style scoped>\n",
              "    .dataframe tbody tr th:only-of-type {\n",
              "        vertical-align: middle;\n",
              "    }\n",
              "\n",
              "    .dataframe tbody tr th {\n",
              "        vertical-align: top;\n",
              "    }\n",
              "\n",
              "    .dataframe thead th {\n",
              "        text-align: right;\n",
              "    }\n",
              "</style>\n",
              "<table border=\"1\" class=\"dataframe\">\n",
              "  <thead>\n",
              "    <tr style=\"text-align: right;\">\n",
              "      <th></th>\n",
              "      <th>price</th>\n",
              "      <th>area</th>\n",
              "      <th>bedrooms</th>\n",
              "      <th>bathrooms</th>\n",
              "      <th>stories</th>\n",
              "      <th>mainroad</th>\n",
              "      <th>guestroom</th>\n",
              "      <th>basement</th>\n",
              "      <th>hotwaterheating</th>\n",
              "      <th>airconditioning</th>\n",
              "      <th>parking</th>\n",
              "      <th>prefarea</th>\n",
              "      <th>furnishingstatus</th>\n",
              "    </tr>\n",
              "  </thead>\n",
              "  <tbody>\n",
              "    <tr>\n",
              "      <th>22</th>\n",
              "      <td>0.596970</td>\n",
              "      <td>0.432609</td>\n",
              "      <td>0.4</td>\n",
              "      <td>0.000000</td>\n",
              "      <td>0.000000</td>\n",
              "      <td>1.0</td>\n",
              "      <td>1.0</td>\n",
              "      <td>1.0</td>\n",
              "      <td>0.0</td>\n",
              "      <td>1.0</td>\n",
              "      <td>0.333333</td>\n",
              "      <td>0.0</td>\n",
              "      <td>furnished</td>\n",
              "    </tr>\n",
              "    <tr>\n",
              "      <th>41</th>\n",
              "      <td>0.527273</td>\n",
              "      <td>0.314954</td>\n",
              "      <td>0.4</td>\n",
              "      <td>0.333333</td>\n",
              "      <td>1.000000</td>\n",
              "      <td>1.0</td>\n",
              "      <td>0.0</td>\n",
              "      <td>0.0</td>\n",
              "      <td>0.0</td>\n",
              "      <td>1.0</td>\n",
              "      <td>0.000000</td>\n",
              "      <td>1.0</td>\n",
              "      <td>furnished</td>\n",
              "    </tr>\n",
              "    <tr>\n",
              "      <th>91</th>\n",
              "      <td>0.404242</td>\n",
              "      <td>0.342105</td>\n",
              "      <td>0.2</td>\n",
              "      <td>0.000000</td>\n",
              "      <td>0.000000</td>\n",
              "      <td>1.0</td>\n",
              "      <td>1.0</td>\n",
              "      <td>1.0</td>\n",
              "      <td>0.0</td>\n",
              "      <td>0.0</td>\n",
              "      <td>0.666667</td>\n",
              "      <td>1.0</td>\n",
              "      <td>furnished</td>\n",
              "    </tr>\n",
              "    <tr>\n",
              "      <th>118</th>\n",
              "      <td>0.363636</td>\n",
              "      <td>0.319131</td>\n",
              "      <td>0.4</td>\n",
              "      <td>0.000000</td>\n",
              "      <td>0.000000</td>\n",
              "      <td>1.0</td>\n",
              "      <td>0.0</td>\n",
              "      <td>1.0</td>\n",
              "      <td>0.0</td>\n",
              "      <td>1.0</td>\n",
              "      <td>0.000000</td>\n",
              "      <td>1.0</td>\n",
              "      <td>furnished</td>\n",
              "    </tr>\n",
              "    <tr>\n",
              "      <th>472</th>\n",
              "      <td>0.109091</td>\n",
              "      <td>0.124896</td>\n",
              "      <td>0.6</td>\n",
              "      <td>0.000000</td>\n",
              "      <td>0.333333</td>\n",
              "      <td>1.0</td>\n",
              "      <td>0.0</td>\n",
              "      <td>0.0</td>\n",
              "      <td>0.0</td>\n",
              "      <td>0.0</td>\n",
              "      <td>1.000000</td>\n",
              "      <td>0.0</td>\n",
              "      <td>semi-furnished</td>\n",
              "    </tr>\n",
              "  </tbody>\n",
              "</table>\n",
              "</div>\n",
              "    <div class=\"colab-df-buttons\">\n",
              "\n",
              "  <div class=\"colab-df-container\">\n",
              "    <button class=\"colab-df-convert\" onclick=\"convertToInteractive('df-0f6d86f4-51ad-47fd-aa61-7634c4d2957a')\"\n",
              "            title=\"Convert this dataframe to an interactive table.\"\n",
              "            style=\"display:none;\">\n",
              "\n",
              "  <svg xmlns=\"http://www.w3.org/2000/svg\" height=\"24px\" viewBox=\"0 -960 960 960\">\n",
              "    <path d=\"M120-120v-720h720v720H120Zm60-500h600v-160H180v160Zm220 220h160v-160H400v160Zm0 220h160v-160H400v160ZM180-400h160v-160H180v160Zm440 0h160v-160H620v160ZM180-180h160v-160H180v160Zm440 0h160v-160H620v160Z\"/>\n",
              "  </svg>\n",
              "    </button>\n",
              "\n",
              "  <style>\n",
              "    .colab-df-container {\n",
              "      display:flex;\n",
              "      gap: 12px;\n",
              "    }\n",
              "\n",
              "    .colab-df-convert {\n",
              "      background-color: #E8F0FE;\n",
              "      border: none;\n",
              "      border-radius: 50%;\n",
              "      cursor: pointer;\n",
              "      display: none;\n",
              "      fill: #1967D2;\n",
              "      height: 32px;\n",
              "      padding: 0 0 0 0;\n",
              "      width: 32px;\n",
              "    }\n",
              "\n",
              "    .colab-df-convert:hover {\n",
              "      background-color: #E2EBFA;\n",
              "      box-shadow: 0px 1px 2px rgba(60, 64, 67, 0.3), 0px 1px 3px 1px rgba(60, 64, 67, 0.15);\n",
              "      fill: #174EA6;\n",
              "    }\n",
              "\n",
              "    .colab-df-buttons div {\n",
              "      margin-bottom: 4px;\n",
              "    }\n",
              "\n",
              "    [theme=dark] .colab-df-convert {\n",
              "      background-color: #3B4455;\n",
              "      fill: #D2E3FC;\n",
              "    }\n",
              "\n",
              "    [theme=dark] .colab-df-convert:hover {\n",
              "      background-color: #434B5C;\n",
              "      box-shadow: 0px 1px 3px 1px rgba(0, 0, 0, 0.15);\n",
              "      filter: drop-shadow(0px 1px 2px rgba(0, 0, 0, 0.3));\n",
              "      fill: #FFFFFF;\n",
              "    }\n",
              "  </style>\n",
              "\n",
              "    <script>\n",
              "      const buttonEl =\n",
              "        document.querySelector('#df-0f6d86f4-51ad-47fd-aa61-7634c4d2957a button.colab-df-convert');\n",
              "      buttonEl.style.display =\n",
              "        google.colab.kernel.accessAllowed ? 'block' : 'none';\n",
              "\n",
              "      async function convertToInteractive(key) {\n",
              "        const element = document.querySelector('#df-0f6d86f4-51ad-47fd-aa61-7634c4d2957a');\n",
              "        const dataTable =\n",
              "          await google.colab.kernel.invokeFunction('convertToInteractive',\n",
              "                                                    [key], {});\n",
              "        if (!dataTable) return;\n",
              "\n",
              "        const docLinkHtml = 'Like what you see? Visit the ' +\n",
              "          '<a target=\"_blank\" href=https://colab.research.google.com/notebooks/data_table.ipynb>data table notebook</a>'\n",
              "          + ' to learn more about interactive tables.';\n",
              "        element.innerHTML = '';\n",
              "        dataTable['output_type'] = 'display_data';\n",
              "        await google.colab.output.renderOutput(dataTable, element);\n",
              "        const docLink = document.createElement('div');\n",
              "        docLink.innerHTML = docLinkHtml;\n",
              "        element.appendChild(docLink);\n",
              "      }\n",
              "    </script>\n",
              "  </div>\n",
              "\n",
              "\n",
              "<div id=\"df-55cd0ff0-ae5b-4517-8526-d86d2be7e0bd\">\n",
              "  <button class=\"colab-df-quickchart\" onclick=\"quickchart('df-55cd0ff0-ae5b-4517-8526-d86d2be7e0bd')\"\n",
              "            title=\"Suggest charts\"\n",
              "            style=\"display:none;\">\n",
              "\n",
              "<svg xmlns=\"http://www.w3.org/2000/svg\" height=\"24px\"viewBox=\"0 0 24 24\"\n",
              "     width=\"24px\">\n",
              "    <g>\n",
              "        <path d=\"M19 3H5c-1.1 0-2 .9-2 2v14c0 1.1.9 2 2 2h14c1.1 0 2-.9 2-2V5c0-1.1-.9-2-2-2zM9 17H7v-7h2v7zm4 0h-2V7h2v10zm4 0h-2v-4h2v4z\"/>\n",
              "    </g>\n",
              "</svg>\n",
              "  </button>\n",
              "\n",
              "<style>\n",
              "  .colab-df-quickchart {\n",
              "      --bg-color: #E8F0FE;\n",
              "      --fill-color: #1967D2;\n",
              "      --hover-bg-color: #E2EBFA;\n",
              "      --hover-fill-color: #174EA6;\n",
              "      --disabled-fill-color: #AAA;\n",
              "      --disabled-bg-color: #DDD;\n",
              "  }\n",
              "\n",
              "  [theme=dark] .colab-df-quickchart {\n",
              "      --bg-color: #3B4455;\n",
              "      --fill-color: #D2E3FC;\n",
              "      --hover-bg-color: #434B5C;\n",
              "      --hover-fill-color: #FFFFFF;\n",
              "      --disabled-bg-color: #3B4455;\n",
              "      --disabled-fill-color: #666;\n",
              "  }\n",
              "\n",
              "  .colab-df-quickchart {\n",
              "    background-color: var(--bg-color);\n",
              "    border: none;\n",
              "    border-radius: 50%;\n",
              "    cursor: pointer;\n",
              "    display: none;\n",
              "    fill: var(--fill-color);\n",
              "    height: 32px;\n",
              "    padding: 0;\n",
              "    width: 32px;\n",
              "  }\n",
              "\n",
              "  .colab-df-quickchart:hover {\n",
              "    background-color: var(--hover-bg-color);\n",
              "    box-shadow: 0 1px 2px rgba(60, 64, 67, 0.3), 0 1px 3px 1px rgba(60, 64, 67, 0.15);\n",
              "    fill: var(--button-hover-fill-color);\n",
              "  }\n",
              "\n",
              "  .colab-df-quickchart-complete:disabled,\n",
              "  .colab-df-quickchart-complete:disabled:hover {\n",
              "    background-color: var(--disabled-bg-color);\n",
              "    fill: var(--disabled-fill-color);\n",
              "    box-shadow: none;\n",
              "  }\n",
              "\n",
              "  .colab-df-spinner {\n",
              "    border: 2px solid var(--fill-color);\n",
              "    border-color: transparent;\n",
              "    border-bottom-color: var(--fill-color);\n",
              "    animation:\n",
              "      spin 1s steps(1) infinite;\n",
              "  }\n",
              "\n",
              "  @keyframes spin {\n",
              "    0% {\n",
              "      border-color: transparent;\n",
              "      border-bottom-color: var(--fill-color);\n",
              "      border-left-color: var(--fill-color);\n",
              "    }\n",
              "    20% {\n",
              "      border-color: transparent;\n",
              "      border-left-color: var(--fill-color);\n",
              "      border-top-color: var(--fill-color);\n",
              "    }\n",
              "    30% {\n",
              "      border-color: transparent;\n",
              "      border-left-color: var(--fill-color);\n",
              "      border-top-color: var(--fill-color);\n",
              "      border-right-color: var(--fill-color);\n",
              "    }\n",
              "    40% {\n",
              "      border-color: transparent;\n",
              "      border-right-color: var(--fill-color);\n",
              "      border-top-color: var(--fill-color);\n",
              "    }\n",
              "    60% {\n",
              "      border-color: transparent;\n",
              "      border-right-color: var(--fill-color);\n",
              "    }\n",
              "    80% {\n",
              "      border-color: transparent;\n",
              "      border-right-color: var(--fill-color);\n",
              "      border-bottom-color: var(--fill-color);\n",
              "    }\n",
              "    90% {\n",
              "      border-color: transparent;\n",
              "      border-bottom-color: var(--fill-color);\n",
              "    }\n",
              "  }\n",
              "</style>\n",
              "\n",
              "  <script>\n",
              "    async function quickchart(key) {\n",
              "      const quickchartButtonEl =\n",
              "        document.querySelector('#' + key + ' button');\n",
              "      quickchartButtonEl.disabled = true;  // To prevent multiple clicks.\n",
              "      quickchartButtonEl.classList.add('colab-df-spinner');\n",
              "      try {\n",
              "        const charts = await google.colab.kernel.invokeFunction(\n",
              "            'suggestCharts', [key], {});\n",
              "      } catch (error) {\n",
              "        console.error('Error during call to suggestCharts:', error);\n",
              "      }\n",
              "      quickchartButtonEl.classList.remove('colab-df-spinner');\n",
              "      quickchartButtonEl.classList.add('colab-df-quickchart-complete');\n",
              "    }\n",
              "    (() => {\n",
              "      let quickchartButtonEl =\n",
              "        document.querySelector('#df-55cd0ff0-ae5b-4517-8526-d86d2be7e0bd button');\n",
              "      quickchartButtonEl.style.display =\n",
              "        google.colab.kernel.accessAllowed ? 'block' : 'none';\n",
              "    })();\n",
              "  </script>\n",
              "</div>\n",
              "    </div>\n",
              "  </div>\n"
            ]
          },
          "metadata": {},
          "execution_count": 171
        }
      ]
    },
    {
      "cell_type": "code",
      "source": [
        "# Separate features and labels\n",
        "y_train3= df_train[num_vars].values[:, 0]  # get input values from first column -- y is a list here\n",
        "x_train3 = df_train[num_vars].values[:, 1:13]  # get output values from second column -- x is the list here\n",
        "m = len(y_train)  # Number of training examples\n",
        "n = len(x_train)  # Number of training examples"
      ],
      "metadata": {
        "id": "qfG6ut3nmddD"
      },
      "execution_count": 175,
      "outputs": []
    },
    {
      "cell_type": "code",
      "source": [
        "y_train3 = torch.tensor(y_train3)\n",
        "x_train3 = torch.tensor(x_train3)"
      ],
      "metadata": {
        "id": "uFHF8dTnnLDl"
      },
      "execution_count": 176,
      "outputs": []
    },
    {
      "cell_type": "code",
      "source": [
        "def model3(parmas,x_train3):  #Linear model = y_train = return\n",
        "    w10,w9,w8,w7,w6,w5, w4, w3, w2, w1, w0, b = params\n",
        "    return w10*x_train3[:,10] + w9*x_train3[:,9] + w8*x_train3[:,8] + w7*x_train3[:,7] + w6*x_train3[:,6] + w5*x_train3[:,5] + w4*x_train3[:,4] + w3*x_train3[:,3] + w2*x_train3[:,2] + w1*x_train3[:,1] + w0*x_train3[:,0] + b"
      ],
      "metadata": {
        "id": "dvgn7_mgnO-o"
      },
      "execution_count": 177,
      "outputs": []
    },
    {
      "cell_type": "code",
      "source": [
        "def loss_fn3(t_p, y_train3):\n",
        "  square_diff = (t_p - y_train3)**2\n",
        "  return square_diff.mean();"
      ],
      "metadata": {
        "id": "Xi0Pk37boAdk"
      },
      "execution_count": 178,
      "outputs": []
    },
    {
      "cell_type": "code",
      "source": [
        "w1 = torch.ones((), requires_grad=True)\n",
        "w2 = torch.ones((), requires_grad=True)\n",
        "w3 = torch.ones((), requires_grad=True)\n",
        "w4 = torch.ones((), requires_grad=True)\n",
        "w5 = torch.ones((), requires_grad=True)\n",
        "w6 = torch.ones((), requires_grad=True)\n",
        "w7 = torch.ones((), requires_grad=True)\n",
        "w8 = torch.ones((), requires_grad=True)\n",
        "w9 = torch.ones((), requires_grad=True)\n",
        "w10 = torch.ones((), requires_grad=True)\n",
        "b = torch.zeros((), requires_grad=True)"
      ],
      "metadata": {
        "id": "Gz1aBpgroMcV"
      },
      "execution_count": 179,
      "outputs": []
    },
    {
      "cell_type": "code",
      "source": [
        "n_samples = x_train3.shape[0]\n",
        "n_val = int(0.2 * n_samples)\n",
        "\n",
        "shuffled_indices = torch.randperm(n_samples)\n",
        "\n",
        "train_indices = shuffled_indices[:-n_val]\n",
        "val_indices = shuffled_indices[-n_val:]\n",
        "\n",
        "train_indices, val_indices"
      ],
      "metadata": {
        "colab": {
          "base_uri": "https://localhost:8080/"
        },
        "id": "bXW-teGOoVUs",
        "outputId": "5c17d6c4-8e05-418a-fc52-4f21dddca2d4"
      },
      "execution_count": 180,
      "outputs": [
        {
          "output_type": "execute_result",
          "data": {
            "text/plain": [
              "(tensor([325, 250, 224, 408, 390, 364,  21, 241,  69,  34, 351, 189,  99, 176,\n",
              "          19,  44, 149, 431, 158, 142, 356,  20, 147, 423,  81, 400,  59, 343,\n",
              "         401, 275, 169, 227,  71, 313, 308, 217, 303, 221, 235, 211,  80, 283,\n",
              "         264, 164, 335, 392, 426, 251,  64, 243, 248, 339, 144,  83, 410,  22,\n",
              "         188,   0, 324, 116,   2, 338, 222, 181, 429, 381, 334, 298, 115, 130,\n",
              "         236, 197,  16, 288, 333, 395, 306,  66,  40, 378, 226, 357, 389, 118,\n",
              "         204,  50,  67, 413, 278, 307, 321, 388,  36, 407, 404, 369, 411, 133,\n",
              "         391, 385, 405, 361, 117, 416,  45, 101, 258, 272, 134, 141,  97,  29,\n",
              "          12, 421,  42, 119, 209, 200, 347, 387, 234,  62, 245, 203, 139,  63,\n",
              "         320, 263,   5, 230,  87, 177, 380, 153, 394, 362, 268,  90,  18, 239,\n",
              "           4, 277, 428, 155, 330, 266,  56, 427, 344, 237,  72, 109, 229, 261,\n",
              "         201, 350, 425, 412, 107,  85,  33, 205, 160, 184, 433, 409, 165, 262,\n",
              "         223,   1, 185, 296,  37, 112, 173, 135, 267,  25, 111, 281, 253, 340,\n",
              "         105, 402, 137, 363,  48, 113, 299,  10,  91, 418, 422, 386, 121, 114,\n",
              "         366, 123,  15,  38, 199, 302, 154, 295, 156, 180, 292, 432, 259, 315,\n",
              "         393, 145, 220, 419,  82,  76, 228, 257, 195, 406, 276,  11, 159, 312,\n",
              "         171,  75, 311, 398,  98, 396, 216,  54,  31,  28, 131, 304, 301, 384,\n",
              "         359, 260, 377, 372, 273, 187, 190, 110,  27, 172, 284, 170, 434, 162,\n",
              "           3, 329, 255,  65,  23, 417, 336, 244, 368, 341, 375, 383, 435,  32,\n",
              "         246, 346,  49, 318, 323, 291, 319, 326, 322, 196, 247,  60, 249, 163,\n",
              "          52, 271, 274,  73,  93, 157,  84, 225, 103, 108, 279, 127,  14, 310,\n",
              "         367, 349, 399,   8,  74, 231, 331,  79, 373, 328,  41, 129, 140, 252,\n",
              "          17, 206, 198, 186, 124, 345, 332, 166, 106, 128, 297, 214,  39,  57,\n",
              "          70, 424, 374, 370, 293, 397, 238, 194, 376, 215, 420, 192, 327, 270,\n",
              "         208, 289, 219, 212, 150,  24, 290, 316, 146, 354, 353, 126, 168]),\n",
              " tensor([ 51, 352, 348, 148, 309, 138,  88, 161, 232, 317, 342,  61, 100, 240,\n",
              "          53, 152, 414,  58, 178,  68, 193,  78, 122, 300, 403, 207, 202, 242,\n",
              "         213, 132, 174, 371, 286, 382, 179, 143,  55, 314, 355, 358,  30,  96,\n",
              "          43, 256,  94, 183, 265, 136, 430,  47, 280, 182, 285,  26, 191,  46,\n",
              "          89, 125, 151, 360,  35,   9,   7, 120, 175, 305, 294, 167, 210, 269,\n",
              "         379, 287,  77, 233,  86, 365,   6,  92, 282, 218,  13, 415, 102, 337,\n",
              "          95, 254, 104]))"
            ]
          },
          "metadata": {},
          "execution_count": 180
        }
      ]
    },
    {
      "cell_type": "code",
      "source": [
        "train_x3 = x_train3[train_indices]\n",
        "train_y3 = y_train3[train_indices]\n",
        "\n",
        "val_x3 = x_train3[val_indices]\n",
        "val_y3= y_train3[val_indices]"
      ],
      "metadata": {
        "id": "JW7bl2W3oYBp"
      },
      "execution_count": 181,
      "outputs": []
    },
    {
      "cell_type": "code",
      "source": [
        "def training_loop(n_epochs, optimizer, params, train_x3, val_x3, train_y3, val_y3):\n",
        "    for epoch in range(1, n_epochs + 1):\n",
        "\n",
        "        train_t_p3 = model3(params, train_x3)\n",
        "        train_loss3 = loss_fn3(train_t_p3, train_y3)\n",
        "        with torch.no_grad():\n",
        "\n",
        "          val_t_p3 = model3(params, val_x3)\n",
        "          val_loss3 = loss_fn3(val_t_p3, val_y3)\n",
        "\n",
        "        optimizer.zero_grad()\n",
        "        train_loss3.backward()\n",
        "        optimizer.step()\n",
        "\n",
        "        if epoch <= 2 or epoch % 500 == 0:\n",
        "            print(f\"Epoch {epoch}, Training loss {train_loss3.item():.4f},\"\n",
        "                  f\" Validation loss {val_loss3.item():.4f}\")\n",
        "\n",
        "    return params"
      ],
      "metadata": {
        "id": "LWYFP1BRohHy"
      },
      "execution_count": 221,
      "outputs": []
    },
    {
      "cell_type": "markdown",
      "source": [
        "SGD"
      ],
      "metadata": {
        "id": "nc1LUGMO4t33"
      }
    },
    {
      "cell_type": "code",
      "source": [
        "print(\"Learning rate 0.01:\")\n",
        "params = torch.tensor([1.0, 1.0, 1.0, 1.0,1.0,1.0, 1.0, 1.0, 1.0,1.0,1.0, 0.0], requires_grad=True)\n",
        "learning_rates = 0.01\n",
        "optimizer =optim.SGD([params], lr=learning_rates)\n",
        "training_loop(\n",
        "              n_epochs=5000,\n",
        "              optimizer=optimizer,\n",
        "              params=params,\n",
        "              train_x3=train_x3,\n",
        "              val_x3=val_x3,\n",
        "              train_y3=train_y3,\n",
        "              val_y3=val_y3\n",
        "          )"
      ],
      "metadata": {
        "colab": {
          "base_uri": "https://localhost:8080/"
        },
        "id": "9GF7kloSo72V",
        "outputId": "6aa6282b-d42f-456e-f4cb-bee915d19fd8"
      },
      "execution_count": 184,
      "outputs": [
        {
          "output_type": "stream",
          "name": "stdout",
          "text": [
            "Learning rate 0.01:\n",
            "Epoch 1, Training loss 10.8157, Validation loss 9.5816\n",
            "Epoch 2, Training loss 9.7997, Validation loss 8.6611\n",
            "Epoch 500, Training loss 0.0663, Validation loss 0.0519\n",
            "Epoch 1000, Training loss 0.0242, Validation loss 0.0181\n",
            "Epoch 1500, Training loss 0.0144, Validation loss 0.0118\n",
            "Epoch 2000, Training loss 0.0114, Validation loss 0.0100\n",
            "Epoch 2500, Training loss 0.0103, Validation loss 0.0093\n",
            "Epoch 3000, Training loss 0.0098, Validation loss 0.0089\n",
            "Epoch 3500, Training loss 0.0096, Validation loss 0.0086\n",
            "Epoch 4000, Training loss 0.0094, Validation loss 0.0084\n",
            "Epoch 4500, Training loss 0.0093, Validation loss 0.0082\n",
            "Epoch 5000, Training loss 0.0092, Validation loss 0.0081\n"
          ]
        },
        {
          "output_type": "execute_result",
          "data": {
            "text/plain": [
              "tensor([ 0.0512,  0.0389,  0.0777,  0.0805,  0.0271,  0.0230,  0.0641,  0.0685,\n",
              "         0.2756,  0.1741,  0.3403, -0.0485], requires_grad=True)"
            ]
          },
          "metadata": {},
          "execution_count": 184
        }
      ]
    },
    {
      "cell_type": "code",
      "source": [
        "print(\"Learning rate 0.1:\")\n",
        "params = torch.tensor([1.0, 1.0, 1.0, 1.0,1.0,1.0, 1.0, 1.0, 1.0,1.0,1.0, 0.0], requires_grad=True)\n",
        "learning_rates = 0.1\n",
        "optimizer =optim.SGD([params], lr=learning_rates)\n",
        "training_loop(\n",
        "              n_epochs=5000,\n",
        "              optimizer=optimizer,\n",
        "              params=params,\n",
        "              train_x3=train_x3,\n",
        "              val_x3=val_x3,\n",
        "              train_y3=train_y3,\n",
        "              val_y3=val_y3\n",
        "          )"
      ],
      "metadata": {
        "colab": {
          "base_uri": "https://localhost:8080/"
        },
        "id": "LydvEZ4ErNL5",
        "outputId": "df5729df-645f-4e7b-a2bb-7daa74a63205"
      },
      "execution_count": 185,
      "outputs": [
        {
          "output_type": "stream",
          "name": "stdout",
          "text": [
            "Learning rate 0.1:\n",
            "Epoch 1, Training loss 10.8157, Validation loss 9.5816\n",
            "Epoch 2, Training loss 3.0315, Validation loss 2.5939\n",
            "Epoch 500, Training loss 0.0092, Validation loss 0.0081\n",
            "Epoch 1000, Training loss 0.0090, Validation loss 0.0076\n",
            "Epoch 1500, Training loss 0.0089, Validation loss 0.0075\n",
            "Epoch 2000, Training loss 0.0089, Validation loss 0.0075\n",
            "Epoch 2500, Training loss 0.0089, Validation loss 0.0075\n",
            "Epoch 3000, Training loss 0.0089, Validation loss 0.0075\n",
            "Epoch 3500, Training loss 0.0089, Validation loss 0.0075\n",
            "Epoch 4000, Training loss 0.0089, Validation loss 0.0075\n",
            "Epoch 4500, Training loss 0.0089, Validation loss 0.0075\n",
            "Epoch 5000, Training loss 0.0089, Validation loss 0.0075\n"
          ]
        },
        {
          "output_type": "execute_result",
          "data": {
            "text/plain": [
              "tensor([ 0.0537,  0.0559,  0.0769,  0.0807,  0.0307,  0.0267,  0.0563,  0.0969,\n",
              "         0.2962,  0.0576,  0.2983, -0.0021], requires_grad=True)"
            ]
          },
          "metadata": {},
          "execution_count": 185
        }
      ]
    },
    {
      "cell_type": "code",
      "source": [
        "print(\"Learning rate 0.001:\")\n",
        "params = torch.tensor([1.0, 1.0, 1.0, 1.0,1.0,1.0, 1.0, 1.0, 1.0,1.0,1.0, 0.0], requires_grad=True)\n",
        "learning_rates = 0.001\n",
        "optimizer =optim.SGD([params], lr=learning_rates)\n",
        "training_loop(\n",
        "              n_epochs=5000,\n",
        "              optimizer=optimizer,\n",
        "              params=params,\n",
        "              train_x3=train_x3,\n",
        "              val_x3=val_x3,\n",
        "              train_y3=train_y3,\n",
        "              val_y3=val_y3\n",
        "          )"
      ],
      "metadata": {
        "colab": {
          "base_uri": "https://localhost:8080/"
        },
        "id": "_pDLyDFLrS4t",
        "outputId": "8a295574-82ba-470e-f09e-31495a604fd8"
      },
      "execution_count": 186,
      "outputs": [
        {
          "output_type": "stream",
          "name": "stdout",
          "text": [
            "Learning rate 0.001:\n",
            "Epoch 1, Training loss 10.8157, Validation loss 9.5816\n",
            "Epoch 2, Training loss 10.7117, Validation loss 9.4873\n",
            "Epoch 500, Training loss 0.4980, Validation loss 0.4457\n",
            "Epoch 1000, Training loss 0.3222, Validation loss 0.3064\n",
            "Epoch 1500, Training loss 0.2450, Validation loss 0.2290\n",
            "Epoch 2000, Training loss 0.1915, Validation loss 0.1743\n",
            "Epoch 2500, Training loss 0.1534, Validation loss 0.1357\n",
            "Epoch 3000, Training loss 0.1256, Validation loss 0.1079\n",
            "Epoch 3500, Training loss 0.1048, Validation loss 0.0876\n",
            "Epoch 4000, Training loss 0.0888, Validation loss 0.0724\n",
            "Epoch 4500, Training loss 0.0763, Validation loss 0.0608\n",
            "Epoch 5000, Training loss 0.0663, Validation loss 0.0518\n"
          ]
        },
        {
          "output_type": "execute_result",
          "data": {
            "text/plain": [
              "tensor([ 0.1075,  0.3099,  0.0854,  0.5663,  0.0595,  0.1158,  0.1406,  0.3035,\n",
              "         0.5860,  0.4661,  0.5800, -0.5516], requires_grad=True)"
            ]
          },
          "metadata": {},
          "execution_count": 186
        }
      ]
    },
    {
      "cell_type": "code",
      "source": [
        "print(\"Learning rate 0.0001:\")\n",
        "params = torch.tensor([1.0, 1.0, 1.0, 1.0,1.0,1.0, 1.0, 1.0, 1.0,1.0,1.0, 0.0], requires_grad=True)\n",
        "learning_rates = 0.0001\n",
        "optimizer =optim.SGD([params], lr=learning_rates)\n",
        "training_loop(\n",
        "              n_epochs=5000,\n",
        "              optimizer=optimizer,\n",
        "              params=params,\n",
        "              train_x3=train_x3,\n",
        "              val_x3=val_x3,\n",
        "              train_y3=train_y3,\n",
        "              val_y3=val_y3\n",
        "          )"
      ],
      "metadata": {
        "colab": {
          "base_uri": "https://localhost:8080/"
        },
        "id": "lwS8YTL3rXvB",
        "outputId": "8122e710-74b7-4ceb-952c-d35073e6a85e"
      },
      "execution_count": 222,
      "outputs": [
        {
          "output_type": "stream",
          "name": "stdout",
          "text": [
            "Learning rate 0.0001:\n",
            "Epoch 1, Training loss 10.8157, Validation loss 9.5816\n",
            "Epoch 2, Training loss 10.8053, Validation loss 9.5721\n",
            "Epoch 500, Training loss 6.7312, Validation loss 5.8925\n",
            "Epoch 1000, Training loss 4.2614, Validation loss 3.6829\n",
            "Epoch 1500, Training loss 2.7690, Validation loss 2.3638\n",
            "Epoch 2000, Training loss 1.8649, Validation loss 1.5765\n",
            "Epoch 2500, Training loss 1.3147, Validation loss 1.1064\n",
            "Epoch 3000, Training loss 0.9777, Validation loss 0.8248\n",
            "Epoch 3500, Training loss 0.7692, Validation loss 0.6551\n",
            "Epoch 4000, Training loss 0.6381, Validation loss 0.5517\n",
            "Epoch 4500, Training loss 0.5538, Validation loss 0.4872\n",
            "Epoch 5000, Training loss 0.4979, Validation loss 0.4456\n"
          ]
        },
        {
          "output_type": "execute_result",
          "data": {
            "text/plain": [
              "tensor([ 0.5612,  0.6494,  0.4898,  0.8919,  0.4096,  0.6339,  0.0261,  0.6274,\n",
              "         0.8381,  0.5497,  0.7053, -1.0106], requires_grad=True)"
            ]
          },
          "metadata": {},
          "execution_count": 222
        }
      ]
    },
    {
      "cell_type": "markdown",
      "source": [
        "Adam"
      ],
      "metadata": {
        "id": "Q3NdjepX5Wl3"
      }
    },
    {
      "cell_type": "code",
      "source": [
        "print(\"Learning rate 0.1:\")\n",
        "params = torch.tensor([1.0, 1.0, 1.0, 1.0,1.0,1.0, 1.0, 1.0, 1.0,1.0,1.0, 0.0], requires_grad=True)\n",
        "learning_rates = 0.1\n",
        "optimizer =optim.Adam([params], lr=learning_rates)\n",
        "training_loop(\n",
        "              n_epochs=5000,\n",
        "              optimizer=optimizer,\n",
        "              params=params,\n",
        "              train_x3=train_x3,\n",
        "              val_x3=val_x3,\n",
        "              train_y3=train_y3,\n",
        "              val_y3=val_y3\n",
        "          )"
      ],
      "metadata": {
        "colab": {
          "base_uri": "https://localhost:8080/"
        },
        "id": "Lmuk24lI5WXv",
        "outputId": "2d9f4a40-b2f2-4971-fe5c-0556688eb8e0"
      },
      "execution_count": 223,
      "outputs": [
        {
          "output_type": "stream",
          "name": "stdout",
          "text": [
            "Learning rate 0.1:\n",
            "Epoch 1, Training loss 10.8157, Validation loss 9.5816\n",
            "Epoch 2, Training loss 8.0706, Validation loss 7.1208\n",
            "Epoch 500, Training loss 0.0089, Validation loss 0.0075\n",
            "Epoch 1000, Training loss 0.0089, Validation loss 0.0075\n",
            "Epoch 1500, Training loss 0.0089, Validation loss 0.0075\n",
            "Epoch 2000, Training loss 0.0089, Validation loss 0.0075\n",
            "Epoch 2500, Training loss 0.0089, Validation loss 0.0075\n",
            "Epoch 3000, Training loss 0.0089, Validation loss 0.0075\n",
            "Epoch 3500, Training loss 0.0089, Validation loss 0.0075\n",
            "Epoch 4000, Training loss 0.0089, Validation loss 0.0075\n",
            "Epoch 4500, Training loss 0.0089, Validation loss 0.0075\n",
            "Epoch 5000, Training loss 0.0089, Validation loss 0.0075\n"
          ]
        },
        {
          "output_type": "execute_result",
          "data": {
            "text/plain": [
              "tensor([ 0.0537,  0.0559,  0.0769,  0.0807,  0.0307,  0.0267,  0.0563,  0.0969,\n",
              "         0.2962,  0.0576,  0.2983, -0.0021], requires_grad=True)"
            ]
          },
          "metadata": {},
          "execution_count": 223
        }
      ]
    },
    {
      "cell_type": "code",
      "source": [
        "print(\"Learning rate 0.01:\")\n",
        "params = torch.tensor([1.0, 1.0, 1.0, 1.0,1.0,1.0, 1.0, 1.0, 1.0,1.0,1.0, 0.0], requires_grad=True)\n",
        "learning_rates = 0.01\n",
        "optimizer =optim.SGD([params], lr=learning_rates)\n",
        "training_loop(\n",
        "              n_epochs=5000,\n",
        "              optimizer=optimizer,\n",
        "              params=params,\n",
        "              train_x3=train_x3,\n",
        "              val_x3=val_x3,\n",
        "              train_y3=train_y3,\n",
        "              val_y3=val_y3\n",
        "          )"
      ],
      "metadata": {
        "colab": {
          "base_uri": "https://localhost:8080/"
        },
        "id": "Ko3gapKT5ckM",
        "outputId": "3d340928-ad00-4859-becb-368b1fa3b3c0"
      },
      "execution_count": 224,
      "outputs": [
        {
          "output_type": "stream",
          "name": "stdout",
          "text": [
            "Learning rate 0.01:\n",
            "Epoch 1, Training loss 10.8157, Validation loss 9.5816\n",
            "Epoch 2, Training loss 9.7997, Validation loss 8.6611\n",
            "Epoch 500, Training loss 0.0663, Validation loss 0.0519\n",
            "Epoch 1000, Training loss 0.0242, Validation loss 0.0181\n",
            "Epoch 1500, Training loss 0.0144, Validation loss 0.0118\n",
            "Epoch 2000, Training loss 0.0114, Validation loss 0.0100\n",
            "Epoch 2500, Training loss 0.0103, Validation loss 0.0093\n",
            "Epoch 3000, Training loss 0.0098, Validation loss 0.0089\n",
            "Epoch 3500, Training loss 0.0096, Validation loss 0.0086\n",
            "Epoch 4000, Training loss 0.0094, Validation loss 0.0084\n",
            "Epoch 4500, Training loss 0.0093, Validation loss 0.0082\n",
            "Epoch 5000, Training loss 0.0092, Validation loss 0.0081\n"
          ]
        },
        {
          "output_type": "execute_result",
          "data": {
            "text/plain": [
              "tensor([ 0.0512,  0.0389,  0.0777,  0.0805,  0.0271,  0.0230,  0.0641,  0.0685,\n",
              "         0.2756,  0.1741,  0.3403, -0.0485], requires_grad=True)"
            ]
          },
          "metadata": {},
          "execution_count": 224
        }
      ]
    },
    {
      "cell_type": "code",
      "source": [
        "print(\"Learning rate 0.001:\")\n",
        "params = torch.tensor([1.0, 1.0, 1.0, 1.0,1.0,1.0, 1.0, 1.0, 1.0,1.0,1.0, 0.0], requires_grad=True)\n",
        "learning_rates = 0.001\n",
        "optimizer =optim.SGD([params], lr=learning_rates)\n",
        "training_loop(\n",
        "              n_epochs=5000,\n",
        "              optimizer=optimizer,\n",
        "              params=params,\n",
        "              train_x3=train_x3,\n",
        "              val_x3=val_x3,\n",
        "              train_y3=train_y3,\n",
        "              val_y3=val_y3\n",
        "          )"
      ],
      "metadata": {
        "colab": {
          "base_uri": "https://localhost:8080/"
        },
        "id": "beNEJQ8M5f7W",
        "outputId": "001dba7a-3831-4300-9f3c-898c91d6aefe"
      },
      "execution_count": 225,
      "outputs": [
        {
          "output_type": "stream",
          "name": "stdout",
          "text": [
            "Learning rate 0.001:\n",
            "Epoch 1, Training loss 10.8157, Validation loss 9.5816\n",
            "Epoch 2, Training loss 10.7117, Validation loss 9.4873\n",
            "Epoch 500, Training loss 0.4980, Validation loss 0.4457\n",
            "Epoch 1000, Training loss 0.3222, Validation loss 0.3064\n",
            "Epoch 1500, Training loss 0.2450, Validation loss 0.2290\n",
            "Epoch 2000, Training loss 0.1915, Validation loss 0.1743\n",
            "Epoch 2500, Training loss 0.1534, Validation loss 0.1357\n",
            "Epoch 3000, Training loss 0.1256, Validation loss 0.1079\n",
            "Epoch 3500, Training loss 0.1048, Validation loss 0.0876\n",
            "Epoch 4000, Training loss 0.0888, Validation loss 0.0724\n",
            "Epoch 4500, Training loss 0.0763, Validation loss 0.0608\n",
            "Epoch 5000, Training loss 0.0663, Validation loss 0.0518\n"
          ]
        },
        {
          "output_type": "execute_result",
          "data": {
            "text/plain": [
              "tensor([ 0.1075,  0.3099,  0.0854,  0.5663,  0.0595,  0.1158,  0.1406,  0.3035,\n",
              "         0.5860,  0.4661,  0.5800, -0.5516], requires_grad=True)"
            ]
          },
          "metadata": {},
          "execution_count": 225
        }
      ]
    },
    {
      "cell_type": "code",
      "source": [
        "print(\"Learning rate 0.0001:\")\n",
        "params = torch.tensor([1.0, 1.0, 1.0, 1.0,1.0,1.0, 1.0, 1.0, 1.0,1.0,1.0, 0.0], requires_grad=True)\n",
        "learning_rates = 0.0001\n",
        "optimizer =optim.SGD([params], lr=learning_rates)\n",
        "training_loop(\n",
        "              n_epochs=5000,\n",
        "              optimizer=optimizer,\n",
        "              params=params,\n",
        "              train_x3=train_x3,\n",
        "              val_x3=val_x3,\n",
        "              train_y3=train_y3,\n",
        "              val_y3=val_y3\n",
        "          )"
      ],
      "metadata": {
        "colab": {
          "base_uri": "https://localhost:8080/"
        },
        "id": "bXSfydRN5iSQ",
        "outputId": "becfe564-3a9d-45ee-ee3a-76e61e12d0f3"
      },
      "execution_count": 228,
      "outputs": [
        {
          "output_type": "stream",
          "name": "stdout",
          "text": [
            "Learning rate 0.0001:\n",
            "Epoch 1, Training loss 10.8157, Validation loss 9.5816\n",
            "Epoch 2, Training loss 10.8053, Validation loss 9.5721\n",
            "Epoch 500, Training loss 6.7312, Validation loss 5.8925\n",
            "Epoch 1000, Training loss 4.2614, Validation loss 3.6829\n",
            "Epoch 1500, Training loss 2.7690, Validation loss 2.3638\n",
            "Epoch 2000, Training loss 1.8649, Validation loss 1.5765\n",
            "Epoch 2500, Training loss 1.3147, Validation loss 1.1064\n",
            "Epoch 3000, Training loss 0.9777, Validation loss 0.8248\n",
            "Epoch 3500, Training loss 0.7692, Validation loss 0.6551\n",
            "Epoch 4000, Training loss 0.6381, Validation loss 0.5517\n",
            "Epoch 4500, Training loss 0.5538, Validation loss 0.4872\n",
            "Epoch 5000, Training loss 0.4979, Validation loss 0.4456\n"
          ]
        },
        {
          "output_type": "execute_result",
          "data": {
            "text/plain": [
              "tensor([ 0.5612,  0.6494,  0.4898,  0.8919,  0.4096,  0.6339,  0.0261,  0.6274,\n",
              "         0.8381,  0.5497,  0.7053, -1.0106], requires_grad=True)"
            ]
          },
          "metadata": {},
          "execution_count": 228
        }
      ]
    }
  ]
}